{
  "nbformat": 4,
  "nbformat_minor": 0,
  "metadata": {
    "colab": {
      "name": "Prueba IFood.ipynb",
      "provenance": []
    },
    "kernelspec": {
      "name": "python3",
      "display_name": "Python 3"
    }
  },
  "cells": [
    {
      "cell_type": "markdown",
      "metadata": {
        "id": "nMLGCE_BE2LF"
      },
      "source": [
        "# Base Médica\r\n",
        "\r\n",
        "### Importe de Librerías"
      ]
    },
    {
      "cell_type": "code",
      "metadata": {
        "id": "MLAWZVaqECpy"
      },
      "source": [
        "from warnings import filterwarnings\r\n",
        "filterwarnings('ignore')\r\n",
        "import pandas as pd\r\n",
        "import numpy as np\r\n",
        "import matplotlib.pyplot as plt\r\n",
        "import seaborn as sns\r\n",
        "from sklearn.model_selection import train_test_split\r\n",
        "from sklearn.model_selection import GridSearchCV\r\n",
        "from sklearn.preprocessing import StandardScaler\r\n",
        "from sklearn.linear_model import LogisticRegression as LR\r\n"
      ],
      "execution_count": 105,
      "outputs": []
    },
    {
      "cell_type": "markdown",
      "metadata": {
        "id": "F5vwqc0XGIOg"
      },
      "source": [
        "### Autorización de uso desde Colaboratory"
      ]
    },
    {
      "cell_type": "code",
      "metadata": {
        "colab": {
          "base_uri": "https://localhost:8080/"
        },
        "id": "r3UjzCHVGcqS",
        "outputId": "b0768cf4-444d-40d7-9eeb-33509141ba4a"
      },
      "source": [
        "import zipfile\r\n",
        "from google.colab import drive\r\n",
        "drive.mount('/content/drive/')"
      ],
      "execution_count": 2,
      "outputs": [
        {
          "output_type": "stream",
          "text": [
            "Mounted at /content/drive/\n"
          ],
          "name": "stdout"
        }
      ]
    },
    {
      "cell_type": "markdown",
      "metadata": {
        "id": "WislsUOxF0iC"
      },
      "source": [
        "### Cargue de Información"
      ]
    },
    {
      "cell_type": "code",
      "metadata": {
        "id": "FIYh5LeCGBhF"
      },
      "source": [
        "base=pd.read_csv(\"/content/drive/MyDrive/Prueba/diabetic_data.csv\")"
      ],
      "execution_count": 54,
      "outputs": []
    },
    {
      "cell_type": "markdown",
      "metadata": {
        "id": "2uAZ4brGG_GD"
      },
      "source": [
        "### Exploración Inicial de Base\r\n",
        "\r\n",
        "Dado que las variables como encounter_id patient_nbr son identificadores de los clientes se van dejar como index dentre de la base para que no sean tenido en cuenta como variable."
      ]
    },
    {
      "cell_type": "code",
      "metadata": {
        "colab": {
          "base_uri": "https://localhost:8080/",
          "height": 254
        },
        "id": "SHt2H1IAQTKZ",
        "outputId": "c45aefd8-786d-4f27-8791-d7acd6463c04"
      },
      "source": [
        "base.set_index(['encounter_id','patient_nbr'], inplace=True)\r\n",
        "base.head(3)"
      ],
      "execution_count": 55,
      "outputs": [
        {
          "output_type": "execute_result",
          "data": {
            "text/html": [
              "<div>\n",
              "<style scoped>\n",
              "    .dataframe tbody tr th:only-of-type {\n",
              "        vertical-align: middle;\n",
              "    }\n",
              "\n",
              "    .dataframe tbody tr th {\n",
              "        vertical-align: top;\n",
              "    }\n",
              "\n",
              "    .dataframe thead th {\n",
              "        text-align: right;\n",
              "    }\n",
              "</style>\n",
              "<table border=\"1\" class=\"dataframe\">\n",
              "  <thead>\n",
              "    <tr style=\"text-align: right;\">\n",
              "      <th></th>\n",
              "      <th></th>\n",
              "      <th>race</th>\n",
              "      <th>gender</th>\n",
              "      <th>age</th>\n",
              "      <th>weight</th>\n",
              "      <th>admission_type_id</th>\n",
              "      <th>discharge_disposition_id</th>\n",
              "      <th>admission_source_id</th>\n",
              "      <th>time_in_hospital</th>\n",
              "      <th>payer_code</th>\n",
              "      <th>medical_specialty</th>\n",
              "      <th>num_lab_procedures</th>\n",
              "      <th>num_procedures</th>\n",
              "      <th>num_medications</th>\n",
              "      <th>number_outpatient</th>\n",
              "      <th>number_emergency</th>\n",
              "      <th>number_inpatient</th>\n",
              "      <th>diag_1</th>\n",
              "      <th>diag_2</th>\n",
              "      <th>diag_3</th>\n",
              "      <th>number_diagnoses</th>\n",
              "      <th>max_glu_serum</th>\n",
              "      <th>A1Cresult</th>\n",
              "      <th>metformin</th>\n",
              "      <th>repaglinide</th>\n",
              "      <th>nateglinide</th>\n",
              "      <th>chlorpropamide</th>\n",
              "      <th>glimepiride</th>\n",
              "      <th>acetohexamide</th>\n",
              "      <th>glipizide</th>\n",
              "      <th>glyburide</th>\n",
              "      <th>tolbutamide</th>\n",
              "      <th>pioglitazone</th>\n",
              "      <th>rosiglitazone</th>\n",
              "      <th>acarbose</th>\n",
              "      <th>miglitol</th>\n",
              "      <th>troglitazone</th>\n",
              "      <th>tolazamide</th>\n",
              "      <th>examide</th>\n",
              "      <th>citoglipton</th>\n",
              "      <th>insulin</th>\n",
              "      <th>glyburide-metformin</th>\n",
              "      <th>glipizide-metformin</th>\n",
              "      <th>glimepiride-pioglitazone</th>\n",
              "      <th>metformin-rosiglitazone</th>\n",
              "      <th>metformin-pioglitazone</th>\n",
              "      <th>change</th>\n",
              "      <th>diabetesMed</th>\n",
              "      <th>readmitted</th>\n",
              "    </tr>\n",
              "    <tr>\n",
              "      <th>encounter_id</th>\n",
              "      <th>patient_nbr</th>\n",
              "      <th></th>\n",
              "      <th></th>\n",
              "      <th></th>\n",
              "      <th></th>\n",
              "      <th></th>\n",
              "      <th></th>\n",
              "      <th></th>\n",
              "      <th></th>\n",
              "      <th></th>\n",
              "      <th></th>\n",
              "      <th></th>\n",
              "      <th></th>\n",
              "      <th></th>\n",
              "      <th></th>\n",
              "      <th></th>\n",
              "      <th></th>\n",
              "      <th></th>\n",
              "      <th></th>\n",
              "      <th></th>\n",
              "      <th></th>\n",
              "      <th></th>\n",
              "      <th></th>\n",
              "      <th></th>\n",
              "      <th></th>\n",
              "      <th></th>\n",
              "      <th></th>\n",
              "      <th></th>\n",
              "      <th></th>\n",
              "      <th></th>\n",
              "      <th></th>\n",
              "      <th></th>\n",
              "      <th></th>\n",
              "      <th></th>\n",
              "      <th></th>\n",
              "      <th></th>\n",
              "      <th></th>\n",
              "      <th></th>\n",
              "      <th></th>\n",
              "      <th></th>\n",
              "      <th></th>\n",
              "      <th></th>\n",
              "      <th></th>\n",
              "      <th></th>\n",
              "      <th></th>\n",
              "      <th></th>\n",
              "      <th></th>\n",
              "      <th></th>\n",
              "      <th></th>\n",
              "    </tr>\n",
              "  </thead>\n",
              "  <tbody>\n",
              "    <tr>\n",
              "      <th>2278392</th>\n",
              "      <th>8222157</th>\n",
              "      <td>Caucasian</td>\n",
              "      <td>Female</td>\n",
              "      <td>[0-10)</td>\n",
              "      <td>?</td>\n",
              "      <td>6</td>\n",
              "      <td>25</td>\n",
              "      <td>1</td>\n",
              "      <td>1</td>\n",
              "      <td>?</td>\n",
              "      <td>Pediatrics-Endocrinology</td>\n",
              "      <td>41</td>\n",
              "      <td>0</td>\n",
              "      <td>1</td>\n",
              "      <td>0</td>\n",
              "      <td>0</td>\n",
              "      <td>0</td>\n",
              "      <td>250.83</td>\n",
              "      <td>?</td>\n",
              "      <td>?</td>\n",
              "      <td>1</td>\n",
              "      <td>None</td>\n",
              "      <td>None</td>\n",
              "      <td>No</td>\n",
              "      <td>No</td>\n",
              "      <td>No</td>\n",
              "      <td>No</td>\n",
              "      <td>No</td>\n",
              "      <td>No</td>\n",
              "      <td>No</td>\n",
              "      <td>No</td>\n",
              "      <td>No</td>\n",
              "      <td>No</td>\n",
              "      <td>No</td>\n",
              "      <td>No</td>\n",
              "      <td>No</td>\n",
              "      <td>No</td>\n",
              "      <td>No</td>\n",
              "      <td>No</td>\n",
              "      <td>No</td>\n",
              "      <td>No</td>\n",
              "      <td>No</td>\n",
              "      <td>No</td>\n",
              "      <td>No</td>\n",
              "      <td>No</td>\n",
              "      <td>No</td>\n",
              "      <td>No</td>\n",
              "      <td>No</td>\n",
              "      <td>NO</td>\n",
              "    </tr>\n",
              "    <tr>\n",
              "      <th>149190</th>\n",
              "      <th>55629189</th>\n",
              "      <td>Caucasian</td>\n",
              "      <td>Female</td>\n",
              "      <td>[10-20)</td>\n",
              "      <td>?</td>\n",
              "      <td>1</td>\n",
              "      <td>1</td>\n",
              "      <td>7</td>\n",
              "      <td>3</td>\n",
              "      <td>?</td>\n",
              "      <td>?</td>\n",
              "      <td>59</td>\n",
              "      <td>0</td>\n",
              "      <td>18</td>\n",
              "      <td>0</td>\n",
              "      <td>0</td>\n",
              "      <td>0</td>\n",
              "      <td>276</td>\n",
              "      <td>250.01</td>\n",
              "      <td>255</td>\n",
              "      <td>9</td>\n",
              "      <td>None</td>\n",
              "      <td>None</td>\n",
              "      <td>No</td>\n",
              "      <td>No</td>\n",
              "      <td>No</td>\n",
              "      <td>No</td>\n",
              "      <td>No</td>\n",
              "      <td>No</td>\n",
              "      <td>No</td>\n",
              "      <td>No</td>\n",
              "      <td>No</td>\n",
              "      <td>No</td>\n",
              "      <td>No</td>\n",
              "      <td>No</td>\n",
              "      <td>No</td>\n",
              "      <td>No</td>\n",
              "      <td>No</td>\n",
              "      <td>No</td>\n",
              "      <td>No</td>\n",
              "      <td>Up</td>\n",
              "      <td>No</td>\n",
              "      <td>No</td>\n",
              "      <td>No</td>\n",
              "      <td>No</td>\n",
              "      <td>No</td>\n",
              "      <td>Ch</td>\n",
              "      <td>Yes</td>\n",
              "      <td>&gt;30</td>\n",
              "    </tr>\n",
              "    <tr>\n",
              "      <th>64410</th>\n",
              "      <th>86047875</th>\n",
              "      <td>AfricanAmerican</td>\n",
              "      <td>Female</td>\n",
              "      <td>[20-30)</td>\n",
              "      <td>?</td>\n",
              "      <td>1</td>\n",
              "      <td>1</td>\n",
              "      <td>7</td>\n",
              "      <td>2</td>\n",
              "      <td>?</td>\n",
              "      <td>?</td>\n",
              "      <td>11</td>\n",
              "      <td>5</td>\n",
              "      <td>13</td>\n",
              "      <td>2</td>\n",
              "      <td>0</td>\n",
              "      <td>1</td>\n",
              "      <td>648</td>\n",
              "      <td>250</td>\n",
              "      <td>V27</td>\n",
              "      <td>6</td>\n",
              "      <td>None</td>\n",
              "      <td>None</td>\n",
              "      <td>No</td>\n",
              "      <td>No</td>\n",
              "      <td>No</td>\n",
              "      <td>No</td>\n",
              "      <td>No</td>\n",
              "      <td>No</td>\n",
              "      <td>Steady</td>\n",
              "      <td>No</td>\n",
              "      <td>No</td>\n",
              "      <td>No</td>\n",
              "      <td>No</td>\n",
              "      <td>No</td>\n",
              "      <td>No</td>\n",
              "      <td>No</td>\n",
              "      <td>No</td>\n",
              "      <td>No</td>\n",
              "      <td>No</td>\n",
              "      <td>No</td>\n",
              "      <td>No</td>\n",
              "      <td>No</td>\n",
              "      <td>No</td>\n",
              "      <td>No</td>\n",
              "      <td>No</td>\n",
              "      <td>No</td>\n",
              "      <td>Yes</td>\n",
              "      <td>NO</td>\n",
              "    </tr>\n",
              "  </tbody>\n",
              "</table>\n",
              "</div>"
            ],
            "text/plain": [
              "                                     race  gender  ... diabetesMed readmitted\n",
              "encounter_id patient_nbr                           ...                       \n",
              "2278392      8222157            Caucasian  Female  ...          No         NO\n",
              "149190       55629189           Caucasian  Female  ...         Yes        >30\n",
              "64410        86047875     AfricanAmerican  Female  ...         Yes         NO\n",
              "\n",
              "[3 rows x 48 columns]"
            ]
          },
          "metadata": {
            "tags": []
          },
          "execution_count": 55
        }
      ]
    },
    {
      "cell_type": "code",
      "metadata": {
        "colab": {
          "base_uri": "https://localhost:8080/"
        },
        "id": "fwZnBLeG5vRr",
        "outputId": "fa1a3945-c79d-4300-fff1-358a3bb90433"
      },
      "source": [
        "base.shape"
      ],
      "execution_count": 158,
      "outputs": [
        {
          "output_type": "execute_result",
          "data": {
            "text/plain": [
              "(101766, 45)"
            ]
          },
          "metadata": {
            "tags": []
          },
          "execution_count": 158
        }
      ]
    },
    {
      "cell_type": "markdown",
      "metadata": {
        "id": "-hWNoMcVP3lJ"
      },
      "source": [
        "Asignación de códigos a  solumnas de la base"
      ]
    },
    {
      "cell_type": "code",
      "metadata": {
        "id": "4FthCrnDIseF"
      },
      "source": [
        "admission_type_id1={1:\"Emergency\",2:\"Urgent\",3:\"Elective\",4:\"Newborn\",5:\"Not Available\",6:\"NULL\",7:\"Trauma Center\",8:\"Not Mapped\"}\r\n",
        "admission_source_id1={1:\"Physician Referral\",2:\"Clinic Referral\",3:\"HMO Referral\",4:\"Transfer from a hospital\",\r\n",
        "5: \"Transfer from a Skilled Nursing Facility (SNF)\",6: \"Transfer from another health care facility\",\r\n",
        "7: \"Emergency Room\",8: \"Court/Law Enforcement\",9: \"Not Available\",10: \"Transfer from critial access hospital\",\r\n",
        "11:\"Normal Delivery\",12: \"Premature Delivery\",13: \"Sick Baby\",14: \"Extramural Birth\",15:\"Not Available\",\r\n",
        "17:\"NULL\",18: \"Transfer From Another Home Health Agency\",19:\"Readmission to Same Home Health Agency\",\r\n",
        "20: \"Not Mapped\",21:\"Unknown/Invalid\",22: \"Transfer from hospital inpt/same fac reslt in a sep claim\",\r\n",
        "23: \"Born inside this hospital\",24: \"Born outside this hospital\",25: \"Transfer from Ambulatory Surgery Center\",\r\n",
        "26:\"Transfer from Hospice\"}\r\n"
      ],
      "execution_count": 56,
      "outputs": []
    },
    {
      "cell_type": "code",
      "metadata": {
        "id": "zP52XeZrPHfc"
      },
      "source": [
        "discharge_disposition_id1={1:\"Discharged to home\",2:\"Discharged/transferred to another short term hospital\",\r\n",
        "3:\"Discharged/transferred to SNF\",4:\"Discharged/transferred to ICF\",\r\n",
        "5:\"Discharged/transferred to another type of inpatient care institution\",\r\n",
        "6:\"Discharged/transferred to home with home health service\",\r\n",
        "7:\"Left AMA\",8:\"Discharged/transferred to home under care of Home IV provider\",\r\n",
        "9:\"Admitted as an inpatient to this hospital\",10:\"Neonate discharged to another hospital for neonatal aftercare\",\r\n",
        "11:\"Expired\",12:\"Still patient or expected to return for outpatient services\",\r\n",
        "13:\"Hospice / home\",14:\"Hospice / medical facility\",\r\n",
        "15:\"Discharged/transferred within this institution to Medicare approved swing bed\",\r\n",
        "16:\"Discharged/transferred/referred another institution for outpatient services\",\r\n",
        "17:\"Discharged/transferred/referred to this institution for outpatient services\",\r\n",
        "18:\"NULL\",19:\"Expired at home. Medicaid only, hospice.\",\r\n",
        "20:\"Expired in a medical facility. Medicaid only, hospice.\",\r\n",
        "21:\"Expired, place unknown. Medicaid only, hospice.\",\r\n",
        "22:\"Discharged/transferred to another rehab fac including rehab units of a hospital.\",\r\n",
        "23:\"Discharged/transferred to a long term care hospital.\",\r\n",
        "24:\"Discharged/transferred to a nursing facility certified under Medicaid but not certified under Medicare.\",\r\n",
        "25:\"Not Mapped\",26:\"Unknown/Invalid\",30:\"Discharged/transferred to another Type of Health Care Institution not Defined Elsewhere\",\r\n",
        "27:\"Discharged/transferred to a federal health care facility.\",\r\n",
        "28:\"Discharged/transferred/referred to a psychiatric hospital of psychiatric distinct part unit of a hospital\",\r\n",
        "29:\"Discharged/transferred to a Critical Access Hospital (CAH).\"}"
      ],
      "execution_count": 57,
      "outputs": []
    },
    {
      "cell_type": "code",
      "metadata": {
        "id": "eGekkBj0MdsE"
      },
      "source": [
        "base[\"admission_source_id\"]=base[\"admission_source_id\"].map(admission_source_id1)\r\n",
        "base[\"discharge_disposition_id\"]=base[\"discharge_disposition_id\"].map(discharge_disposition_id1)\r\n",
        "base[\"admission_type_id\"]=base[\"admission_type_id\"].map(admission_type_id1)"
      ],
      "execution_count": 58,
      "outputs": []
    },
    {
      "cell_type": "code",
      "metadata": {
        "colab": {
          "base_uri": "https://localhost:8080/"
        },
        "id": "nAe6njvUNpO3",
        "outputId": "caa72165-232a-4b20-ee47-867af5c8ff7a"
      },
      "source": [
        "base.value_counts(\"admission_source_id\")/base.shape[0]"
      ],
      "execution_count": 59,
      "outputs": [
        {
          "output_type": "execute_result",
          "data": {
            "text/plain": [
              "admission_source_id\n",
              "Emergency Room                                               0.564963\n",
              "Physician Referral                                           0.290519\n",
              "NULL                                                         0.066633\n",
              "Transfer from a hospital                                     0.031317\n",
              "Transfer from another health care facility                   0.022247\n",
              "Clinic Referral                                              0.010848\n",
              "Transfer from a Skilled Nursing Facility (SNF)               0.008402\n",
              "HMO Referral                                                 0.001838\n",
              "Not Mapped                                                   0.001582\n",
              "Not Available                                                0.001228\n",
              "Court/Law Enforcement                                        0.000157\n",
              "Transfer from hospital inpt/same fac reslt in a sep claim    0.000118\n",
              "Transfer from critial access hospital                        0.000079\n",
              "Normal Delivery                                              0.000020\n",
              "Extramural Birth                                             0.000020\n",
              "Transfer from Ambulatory Surgery Center                      0.000020\n",
              "Sick Baby                                                    0.000010\n",
              "dtype: float64"
            ]
          },
          "metadata": {
            "tags": []
          },
          "execution_count": 59
        }
      ]
    },
    {
      "cell_type": "markdown",
      "metadata": {
        "id": "rBO3QJJVRcBL"
      },
      "source": [
        "Formato de Columnas para mantener un buen formato entre los nombre de las columnas"
      ]
    },
    {
      "cell_type": "code",
      "metadata": {
        "id": "GALXwCscPjDF"
      },
      "source": [
        "labels=base.isnull().sum().index\r\n",
        "for i in labels:\r\n",
        "    clear = i.replace(\"-\",\"_\")\r\n",
        "    clear = clear.replace(\" \",\"\")\r\n",
        "    clear = clear.lower()\r\n",
        "    base.rename(columns={i:clear},inplace = True)    "
      ],
      "execution_count": 60,
      "outputs": []
    },
    {
      "cell_type": "code",
      "metadata": {
        "colab": {
          "base_uri": "https://localhost:8080/"
        },
        "id": "DNSuO_wIIEIf",
        "outputId": "befe1def-abd7-4221-d8e7-8504e29dc9f6"
      },
      "source": [
        "base.columns  "
      ],
      "execution_count": 61,
      "outputs": [
        {
          "output_type": "execute_result",
          "data": {
            "text/plain": [
              "Index(['race', 'gender', 'age', 'weight', 'admission_type_id',\n",
              "       'discharge_disposition_id', 'admission_source_id', 'time_in_hospital',\n",
              "       'payer_code', 'medical_specialty', 'num_lab_procedures',\n",
              "       'num_procedures', 'num_medications', 'number_outpatient',\n",
              "       'number_emergency', 'number_inpatient', 'diag_1', 'diag_2', 'diag_3',\n",
              "       'number_diagnoses', 'max_glu_serum', 'a1cresult', 'metformin',\n",
              "       'repaglinide', 'nateglinide', 'chlorpropamide', 'glimepiride',\n",
              "       'acetohexamide', 'glipizide', 'glyburide', 'tolbutamide',\n",
              "       'pioglitazone', 'rosiglitazone', 'acarbose', 'miglitol', 'troglitazone',\n",
              "       'tolazamide', 'examide', 'citoglipton', 'insulin',\n",
              "       'glyburide_metformin', 'glipizide_metformin',\n",
              "       'glimepiride_pioglitazone', 'metformin_rosiglitazone',\n",
              "       'metformin_pioglitazone', 'change', 'diabetesmed', 'readmitted'],\n",
              "      dtype='object')"
            ]
          },
          "metadata": {
            "tags": []
          },
          "execution_count": 61
        }
      ]
    },
    {
      "cell_type": "markdown",
      "metadata": {
        "id": "YGT2tE9WR-Nu"
      },
      "source": [
        "Validando las dimensiones de la base "
      ]
    },
    {
      "cell_type": "code",
      "metadata": {
        "colab": {
          "base_uri": "https://localhost:8080/"
        },
        "id": "COFnNY2BR8im",
        "outputId": "6b716933-1a2b-46e0-f055-5367b096b2c3"
      },
      "source": [
        "base.shape"
      ],
      "execution_count": 62,
      "outputs": [
        {
          "output_type": "execute_result",
          "data": {
            "text/plain": [
              "(101766, 48)"
            ]
          },
          "metadata": {
            "tags": []
          },
          "execution_count": 62
        }
      ]
    },
    {
      "cell_type": "markdown",
      "metadata": {
        "id": "Ya0834MxSEZs"
      },
      "source": [
        "Tipo de variables por columna\r\n"
      ]
    },
    {
      "cell_type": "code",
      "metadata": {
        "id": "drq3a9oBHnpV",
        "colab": {
          "base_uri": "https://localhost:8080/"
        },
        "outputId": "8e90e37f-72d9-4a02-d2a0-d71c6ba1aca8"
      },
      "source": [
        "base.dtypes"
      ],
      "execution_count": 63,
      "outputs": [
        {
          "output_type": "execute_result",
          "data": {
            "text/plain": [
              "race                        object\n",
              "gender                      object\n",
              "age                         object\n",
              "weight                      object\n",
              "admission_type_id           object\n",
              "discharge_disposition_id    object\n",
              "admission_source_id         object\n",
              "time_in_hospital             int64\n",
              "payer_code                  object\n",
              "medical_specialty           object\n",
              "num_lab_procedures           int64\n",
              "num_procedures               int64\n",
              "num_medications              int64\n",
              "number_outpatient            int64\n",
              "number_emergency             int64\n",
              "number_inpatient             int64\n",
              "diag_1                      object\n",
              "diag_2                      object\n",
              "diag_3                      object\n",
              "number_diagnoses             int64\n",
              "max_glu_serum               object\n",
              "a1cresult                   object\n",
              "metformin                   object\n",
              "repaglinide                 object\n",
              "nateglinide                 object\n",
              "chlorpropamide              object\n",
              "glimepiride                 object\n",
              "acetohexamide               object\n",
              "glipizide                   object\n",
              "glyburide                   object\n",
              "tolbutamide                 object\n",
              "pioglitazone                object\n",
              "rosiglitazone               object\n",
              "acarbose                    object\n",
              "miglitol                    object\n",
              "troglitazone                object\n",
              "tolazamide                  object\n",
              "examide                     object\n",
              "citoglipton                 object\n",
              "insulin                     object\n",
              "glyburide_metformin         object\n",
              "glipizide_metformin         object\n",
              "glimepiride_pioglitazone    object\n",
              "metformin_rosiglitazone     object\n",
              "metformin_pioglitazone      object\n",
              "change                      object\n",
              "diabetesmed                 object\n",
              "readmitted                  object\n",
              "dtype: object"
            ]
          },
          "metadata": {
            "tags": []
          },
          "execution_count": 63
        }
      ]
    },
    {
      "cell_type": "markdown",
      "metadata": {
        "id": "qEEt0U0fSbqg"
      },
      "source": [
        "Validando registros duplicados"
      ]
    },
    {
      "cell_type": "code",
      "metadata": {
        "id": "F5rggY9bHnl4",
        "colab": {
          "base_uri": "https://localhost:8080/"
        },
        "outputId": "63e79939-df17-4f86-aac4-89d43fc03965"
      },
      "source": [
        "base.duplicated().sum()\r\n",
        "# No existen registros duplicados a nivel de fila"
      ],
      "execution_count": 64,
      "outputs": [
        {
          "output_type": "execute_result",
          "data": {
            "text/plain": [
              "0"
            ]
          },
          "metadata": {
            "tags": []
          },
          "execution_count": 64
        }
      ]
    },
    {
      "cell_type": "markdown",
      "metadata": {
        "id": "BQjaY4msSuPK"
      },
      "source": [
        "Revisar si hay variables que siempre o prácticamente siempre toman el mismo valor: tomar siempre el mismo valor no aporta información al modelo"
      ]
    },
    {
      "cell_type": "code",
      "metadata": {
        "id": "WGI3KyWGHnh1",
        "colab": {
          "base_uri": "https://localhost:8080/",
          "height": 107
        },
        "outputId": "76df10e6-8ba5-4a3b-9aad-67b0886a4062"
      },
      "source": [
        "df_unique = pd.DataFrame(base.nunique(),columns=['val_unicos'])\r\n",
        "df_unique[df_unique.val_unicos<2]"
      ],
      "execution_count": 65,
      "outputs": [
        {
          "output_type": "execute_result",
          "data": {
            "text/html": [
              "<div>\n",
              "<style scoped>\n",
              "    .dataframe tbody tr th:only-of-type {\n",
              "        vertical-align: middle;\n",
              "    }\n",
              "\n",
              "    .dataframe tbody tr th {\n",
              "        vertical-align: top;\n",
              "    }\n",
              "\n",
              "    .dataframe thead th {\n",
              "        text-align: right;\n",
              "    }\n",
              "</style>\n",
              "<table border=\"1\" class=\"dataframe\">\n",
              "  <thead>\n",
              "    <tr style=\"text-align: right;\">\n",
              "      <th></th>\n",
              "      <th>val_unicos</th>\n",
              "    </tr>\n",
              "  </thead>\n",
              "  <tbody>\n",
              "    <tr>\n",
              "      <th>examide</th>\n",
              "      <td>1</td>\n",
              "    </tr>\n",
              "    <tr>\n",
              "      <th>citoglipton</th>\n",
              "      <td>1</td>\n",
              "    </tr>\n",
              "  </tbody>\n",
              "</table>\n",
              "</div>"
            ],
            "text/plain": [
              "             val_unicos\n",
              "examide               1\n",
              "citoglipton           1"
            ]
          },
          "metadata": {
            "tags": []
          },
          "execution_count": 65
        }
      ]
    },
    {
      "cell_type": "code",
      "metadata": {
        "id": "_Z0BZdjHS6iA"
      },
      "source": [
        "# Las variables \"examide\" y \"citoglipton\" no aportan por lo cual serán eliminadas de la base\r\n",
        "base=base.drop(['examide','citoglipton'], axis=1)"
      ],
      "execution_count": 66,
      "outputs": []
    },
    {
      "cell_type": "markdown",
      "metadata": {
        "id": "8Rf1UFNVUDnc"
      },
      "source": [
        " Categorías por Variable"
      ]
    },
    {
      "cell_type": "code",
      "metadata": {
        "id": "aNDcFV3tURWU"
      },
      "source": [
        "a=base.columns"
      ],
      "execution_count": 67,
      "outputs": []
    },
    {
      "cell_type": "code",
      "metadata": {
        "colab": {
          "base_uri": "https://localhost:8080/"
        },
        "id": "L6TMmRYIUPRC",
        "outputId": "8815e595-896f-45c5-b965-f8d00905f8d5"
      },
      "source": [
        "for i in a:\r\n",
        "  print(pd.value_counts(base[i])/base.shape[0])\r\n"
      ],
      "execution_count": 68,
      "outputs": [
        {
          "output_type": "stream",
          "text": [
            "Caucasian          0.747784\n",
            "AfricanAmerican    0.188766\n",
            "?                  0.022336\n",
            "Hispanic           0.020017\n",
            "Other              0.014799\n",
            "Asian              0.006299\n",
            "Name: race, dtype: float64\n",
            "Female             0.537586\n",
            "Male               0.462384\n",
            "Unknown/Invalid    0.000029\n",
            "Name: gender, dtype: float64\n",
            "[70-80)     0.256156\n",
            "[60-70)     0.220928\n",
            "[50-60)     0.169565\n",
            "[80-90)     0.168986\n",
            "[40-50)     0.095169\n",
            "[30-40)     0.037095\n",
            "[90-100)    0.027445\n",
            "[20-30)     0.016282\n",
            "[10-20)     0.006790\n",
            "[0-10)      0.001582\n",
            "Name: age, dtype: float64\n",
            "?            0.968585\n",
            "[75-100)     0.013128\n",
            "[50-75)      0.008814\n",
            "[100-125)    0.006142\n",
            "[125-150)    0.001425\n",
            "[25-50)      0.000953\n",
            "[0-25)       0.000472\n",
            "[150-175)    0.000344\n",
            "[175-200)    0.000108\n",
            ">200         0.000029\n",
            "Name: weight, dtype: float64\n",
            "Emergency        0.530531\n",
            "Elective         0.185416\n",
            "Urgent           0.181593\n",
            "NULL             0.051992\n",
            "Not Available    0.047020\n",
            "Not Mapped       0.003144\n",
            "Trauma Center    0.000206\n",
            "Newborn          0.000098\n",
            "Name: admission_type_id, dtype: float64\n",
            "Discharged to home                                                                                           0.591887\n",
            "Discharged/transferred to SNF                                                                                0.137118\n",
            "Discharged/transferred to home with home health service                                                      0.126781\n",
            "NULL                                                                                                         0.036269\n",
            "Discharged/transferred to another short term hospital                                                        0.020911\n",
            "Discharged/transferred to another rehab fac including rehab units of a hospital.                             0.019584\n",
            "Expired                                                                                                      0.016135\n",
            "Discharged/transferred to another type of inpatient care institution                                         0.011635\n",
            "Not Mapped                                                                                                   0.009718\n",
            "Discharged/transferred to ICF                                                                                0.008009\n",
            "Left AMA                                                                                                     0.006122\n",
            "Discharged/transferred to a long term care hospital.                                                         0.004049\n",
            "Hospice / home                                                                                               0.003921\n",
            "Hospice / medical facility                                                                                   0.003655\n",
            "Discharged/transferred/referred to a psychiatric hospital of psychiatric distinct part unit of a hospital    0.001366\n",
            "Discharged/transferred to home under care of Home IV provider                                                0.001061\n",
            "Discharged/transferred within this institution to Medicare approved swing bed                                0.000619\n",
            "Discharged/transferred to a nursing facility certified under Medicaid but not certified under Medicare.      0.000472\n",
            "Admitted as an inpatient to this hospital                                                                    0.000206\n",
            "Discharged/transferred/referred to this institution for outpatient services                                  0.000138\n",
            "Discharged/transferred/referred another institution for outpatient services                                  0.000108\n",
            "Expired at home. Medicaid only, hospice.                                                                     0.000079\n",
            "Neonate discharged to another hospital for neonatal aftercare                                                0.000059\n",
            "Discharged/transferred to a federal health care facility.                                                    0.000049\n",
            "Still patient or expected to return for outpatient services                                                  0.000029\n",
            "Expired in a medical facility. Medicaid only, hospice.                                                       0.000020\n",
            "Name: discharge_disposition_id, dtype: float64\n",
            "Emergency Room                                               0.564963\n",
            "Physician Referral                                           0.290519\n",
            "NULL                                                         0.066633\n",
            "Transfer from a hospital                                     0.031317\n",
            "Transfer from another health care facility                   0.022247\n",
            "Clinic Referral                                              0.010848\n",
            "Transfer from a Skilled Nursing Facility (SNF)               0.008402\n",
            "HMO Referral                                                 0.001838\n",
            "Not Mapped                                                   0.001582\n",
            "Not Available                                                0.001228\n",
            "Court/Law Enforcement                                        0.000157\n",
            "Transfer from hospital inpt/same fac reslt in a sep claim    0.000118\n",
            "Transfer from critial access hospital                        0.000079\n",
            "Extramural Birth                                             0.000020\n",
            "Transfer from Ambulatory Surgery Center                      0.000020\n",
            "Normal Delivery                                              0.000020\n",
            "Sick Baby                                                    0.000010\n",
            "Name: admission_source_id, dtype: float64\n",
            "3     0.174479\n",
            "2     0.169251\n",
            "1     0.139614\n",
            "4     0.136824\n",
            "5     0.097931\n",
            "6     0.074082\n",
            "7     0.057573\n",
            "8     0.043148\n",
            "9     0.029499\n",
            "10    0.023014\n",
            "11    0.018228\n",
            "12    0.014229\n",
            "13    0.011890\n",
            "14    0.010239\n",
            "Name: time_in_hospital, dtype: float64\n",
            "?     0.395574\n",
            "MC    0.318761\n",
            "HM    0.061651\n",
            "SP    0.049201\n",
            "BC    0.045742\n",
            "MD    0.034707\n",
            "CP    0.024890\n",
            "UN    0.024055\n",
            "CM    0.019034\n",
            "OG    0.010151\n",
            "PO    0.005817\n",
            "DM    0.005395\n",
            "CH    0.001435\n",
            "WC    0.001327\n",
            "OT    0.000934\n",
            "MP    0.000776\n",
            "SI    0.000540\n",
            "FR    0.000010\n",
            "Name: payer_code, dtype: float64\n",
            "?                                0.490822\n",
            "InternalMedicine                 0.143810\n",
            "Emergency/Trauma                 0.074337\n",
            "Family/GeneralPractice           0.073109\n",
            "Cardiology                       0.052591\n",
            "                                   ...   \n",
            "Neurophysiology                  0.000010\n",
            "Perinatology                     0.000010\n",
            "SportsMedicine                   0.000010\n",
            "Pediatrics-InfectiousDiseases    0.000010\n",
            "Dermatology                      0.000010\n",
            "Name: medical_specialty, Length: 73, dtype: float64\n",
            "1      0.031523\n",
            "43     0.027553\n",
            "44     0.024527\n",
            "45     0.023348\n",
            "38     0.021746\n",
            "         ...   \n",
            "107    0.000010\n",
            "118    0.000010\n",
            "129    0.000010\n",
            "120    0.000010\n",
            "121    0.000010\n",
            "Name: num_lab_procedures, Length: 118, dtype: float64\n",
            "0    0.458424\n",
            "1    0.203821\n",
            "2    0.124963\n",
            "3    0.092791\n",
            "6    0.048680\n",
            "4    0.041075\n",
            "5    0.030246\n",
            "Name: num_procedures, dtype: float64\n",
            "13    0.059804\n",
            "12    0.058998\n",
            "11    0.056944\n",
            "15    0.056915\n",
            "14    0.056080\n",
            "        ...   \n",
            "70    0.000020\n",
            "75    0.000020\n",
            "74    0.000010\n",
            "79    0.000010\n",
            "81    0.000010\n",
            "Name: num_medications, Length: 75, dtype: float64\n",
            "0     0.835515\n",
            "1     0.083987\n",
            "2     0.035316\n",
            "3     0.020066\n",
            "4     0.010799\n",
            "5     0.005238\n",
            "6     0.002977\n",
            "7     0.001523\n",
            "8     0.000963\n",
            "9     0.000816\n",
            "10    0.000560\n",
            "11    0.000413\n",
            "13    0.000305\n",
            "12    0.000295\n",
            "14    0.000275\n",
            "15    0.000197\n",
            "16    0.000147\n",
            "17    0.000079\n",
            "21    0.000069\n",
            "20    0.000069\n",
            "22    0.000049\n",
            "18    0.000049\n",
            "19    0.000029\n",
            "24    0.000029\n",
            "27    0.000029\n",
            "23    0.000020\n",
            "25    0.000020\n",
            "26    0.000020\n",
            "29    0.000020\n",
            "33    0.000020\n",
            "35    0.000020\n",
            "36    0.000020\n",
            "40    0.000010\n",
            "28    0.000010\n",
            "34    0.000010\n",
            "37    0.000010\n",
            "38    0.000010\n",
            "39    0.000010\n",
            "42    0.000010\n",
            "Name: number_outpatient, dtype: float64\n",
            "0     0.888145\n",
            "1     0.075438\n",
            "2     0.020066\n",
            "3     0.007124\n",
            "4     0.003675\n",
            "5     0.001887\n",
            "6     0.000924\n",
            "7     0.000717\n",
            "8     0.000491\n",
            "10    0.000334\n",
            "9     0.000324\n",
            "11    0.000226\n",
            "13    0.000118\n",
            "12    0.000098\n",
            "22    0.000059\n",
            "18    0.000049\n",
            "16    0.000049\n",
            "19    0.000039\n",
            "20    0.000039\n",
            "14    0.000029\n",
            "15    0.000029\n",
            "21    0.000020\n",
            "25    0.000020\n",
            "76    0.000010\n",
            "54    0.000010\n",
            "24    0.000010\n",
            "28    0.000010\n",
            "29    0.000010\n",
            "37    0.000010\n",
            "42    0.000010\n",
            "46    0.000010\n",
            "64    0.000010\n",
            "63    0.000010\n",
            "Name: number_emergency, dtype: float64\n",
            "0     0.664564\n",
            "1     0.191822\n",
            "2     0.074347\n",
            "3     0.033518\n",
            "4     0.015939\n",
            "5     0.007979\n",
            "6     0.004717\n",
            "7     0.002633\n",
            "8     0.001484\n",
            "9     0.001091\n",
            "10    0.000599\n",
            "11    0.000481\n",
            "12    0.000334\n",
            "13    0.000197\n",
            "14    0.000098\n",
            "15    0.000088\n",
            "16    0.000059\n",
            "19    0.000020\n",
            "17    0.000010\n",
            "18    0.000010\n",
            "21    0.000010\n",
            "Name: number_inpatient, dtype: float64\n",
            "428    0.067429\n",
            "414    0.064668\n",
            "786    0.039463\n",
            "410    0.035513\n",
            "486    0.034471\n",
            "         ...   \n",
            "219    0.000010\n",
            "389    0.000010\n",
            "V43    0.000010\n",
            "919    0.000010\n",
            "976    0.000010\n",
            "Name: diag_1, Length: 717, dtype: float64\n",
            "276     0.066348\n",
            "428     0.065464\n",
            "250     0.059656\n",
            "427     0.049486\n",
            "401     0.036712\n",
            "          ...   \n",
            "E813    0.000010\n",
            "7       0.000010\n",
            "E890    0.000010\n",
            "605     0.000010\n",
            "800     0.000010\n",
            "Name: diag_2, Length: 749, dtype: float64\n",
            "250     0.113545\n",
            "401     0.081452\n",
            "276     0.050852\n",
            "428     0.044976\n",
            "427     0.038864\n",
            "          ...   \n",
            "75      0.000010\n",
            "E900    0.000010\n",
            "315     0.000010\n",
            "951     0.000010\n",
            "387     0.000010\n",
            "Name: diag_3, Length: 790, dtype: float64\n",
            "9     0.486155\n",
            "5     0.111953\n",
            "8     0.104318\n",
            "7     0.102126\n",
            "6     0.099847\n",
            "4     0.054409\n",
            "3     0.027858\n",
            "2     0.010052\n",
            "1     0.002152\n",
            "16    0.000442\n",
            "10    0.000167\n",
            "13    0.000157\n",
            "11    0.000108\n",
            "15    0.000098\n",
            "12    0.000088\n",
            "14    0.000069\n",
            "Name: number_diagnoses, dtype: float64\n",
            "None    0.947468\n",
            "Norm    0.025519\n",
            ">200    0.014592\n",
            ">300    0.012421\n",
            "Name: max_glu_serum, dtype: float64\n",
            "None    0.832773\n",
            ">8      0.080734\n",
            "Norm    0.049034\n",
            ">7      0.037458\n",
            "Name: a1cresult, dtype: float64\n",
            "No        0.803589\n",
            "Steady    0.180276\n",
            "Up        0.010485\n",
            "Down      0.005650\n",
            "Name: metformin, dtype: float64\n",
            "No        0.984877\n",
            "Steady    0.013600\n",
            "Up        0.001081\n",
            "Down      0.000442\n",
            "Name: repaglinide, dtype: float64\n",
            "No        0.993092\n",
            "Steady    0.006564\n",
            "Up        0.000236\n",
            "Down      0.000108\n",
            "Name: nateglinide, dtype: float64\n",
            "No        0.999155\n",
            "Steady    0.000776\n",
            "Up        0.000059\n",
            "Down      0.000010\n",
            "Name: chlorpropamide, dtype: float64\n",
            "No        0.948991\n",
            "Steady    0.045890\n",
            "Up        0.003213\n",
            "Down      0.001906\n",
            "Name: glimepiride, dtype: float64\n",
            "No        0.99999\n",
            "Steady    0.00001\n",
            "Name: acetohexamide, dtype: float64\n",
            "No        0.875341\n",
            "Steady    0.111589\n",
            "Up        0.007566\n",
            "Down      0.005503\n",
            "Name: glipizide, dtype: float64\n",
            "No        0.895348\n",
            "Steady    0.091131\n",
            "Up        0.007979\n",
            "Down      0.005542\n",
            "Name: glyburide, dtype: float64\n",
            "No        0.999774\n",
            "Steady    0.000226\n",
            "Name: tolbutamide, dtype: float64\n",
            "No        0.927992\n",
            "Steady    0.068549\n",
            "Up        0.002299\n",
            "Down      0.001160\n",
            "Name: pioglitazone, dtype: float64\n",
            "No        0.937455\n",
            "Steady    0.059941\n",
            "Up        0.001749\n",
            "Down      0.000855\n",
            "Name: rosiglitazone, dtype: float64\n",
            "No        0.996973\n",
            "Steady    0.002899\n",
            "Up        0.000098\n",
            "Down      0.000029\n",
            "Name: acarbose, dtype: float64\n",
            "No        0.999627\n",
            "Steady    0.000305\n",
            "Down      0.000049\n",
            "Up        0.000020\n",
            "Name: miglitol, dtype: float64\n",
            "No        0.999971\n",
            "Steady    0.000029\n",
            "Name: troglitazone, dtype: float64\n",
            "No        0.999617\n",
            "Steady    0.000373\n",
            "Up        0.000010\n",
            "Name: tolazamide, dtype: float64\n",
            "No        0.465607\n",
            "Steady    0.303137\n",
            "Down      0.120060\n",
            "Up        0.111196\n",
            "Name: insulin, dtype: float64\n",
            "No        0.993063\n",
            "Steady    0.006800\n",
            "Up        0.000079\n",
            "Down      0.000059\n",
            "Name: glyburide_metformin, dtype: float64\n",
            "No        0.999872\n",
            "Steady    0.000128\n",
            "Name: glipizide_metformin, dtype: float64\n",
            "No        0.99999\n",
            "Steady    0.00001\n",
            "Name: glimepiride_pioglitazone, dtype: float64\n",
            "No        0.99998\n",
            "Steady    0.00002\n",
            "Name: metformin_rosiglitazone, dtype: float64\n",
            "No        0.99999\n",
            "Steady    0.00001\n",
            "Name: metformin_pioglitazone, dtype: float64\n",
            "No    0.538048\n",
            "Ch    0.461952\n",
            "Name: change, dtype: float64\n",
            "Yes    0.770031\n",
            "No     0.229969\n",
            "Name: diabetesmed, dtype: float64\n",
            "NO     0.539119\n",
            ">30    0.349282\n",
            "<30    0.111599\n",
            "Name: readmitted, dtype: float64\n"
          ],
          "name": "stdout"
        }
      ]
    },
    {
      "cell_type": "markdown",
      "metadata": {
        "id": "OcM1PPhsTg2e"
      },
      "source": [
        "### Analizar presencia de Nulos\r\n",
        "\r\n",
        "Reemplazo de valores atipicos que pueden ser considerados como valores nulos, en este caso los valores de **?, NULL, Not Available, Not Mapped**  lo vamos a tomar como un valor nulo"
      ]
    },
    {
      "cell_type": "code",
      "metadata": {
        "colab": {
          "base_uri": "https://localhost:8080/",
          "height": 237
        },
        "id": "i2dqPxU9S6ed",
        "outputId": "30268b67-5288-4b6a-ed9a-da1848622c58"
      },
      "source": [
        "# Reemplazo de valores atipicos que pueden ser considerados como valores nulos, en este caso los valores de ?, NULL\r\n",
        "#Not Available,  lo vamos a tomar como un valor nulo\r\n",
        "base.replace(\"?\",np.nan, inplace=True)\r\n",
        "base.replace(\"NULL\",np.nan, inplace=True)\r\n",
        "base.replace(\"Not Mapped\",np.nan, inplace=True)\r\n",
        "base.replace(\"Not Available \",np.nan, inplace=True)\r\n",
        "\r\n",
        "#Solo se considera dos categorias de la varible genero Female y Male, por lo que la otra categoria se descarta como valor nulo\r\n",
        "base[\"gender\"].replace(\"Unknown/Invalid\",np.nan, inplace=True)\r\n",
        "base.head(3)"
      ],
      "execution_count": 69,
      "outputs": [
        {
          "output_type": "execute_result",
          "data": {
            "text/html": [
              "<div>\n",
              "<style scoped>\n",
              "    .dataframe tbody tr th:only-of-type {\n",
              "        vertical-align: middle;\n",
              "    }\n",
              "\n",
              "    .dataframe tbody tr th {\n",
              "        vertical-align: top;\n",
              "    }\n",
              "\n",
              "    .dataframe thead th {\n",
              "        text-align: right;\n",
              "    }\n",
              "</style>\n",
              "<table border=\"1\" class=\"dataframe\">\n",
              "  <thead>\n",
              "    <tr style=\"text-align: right;\">\n",
              "      <th></th>\n",
              "      <th></th>\n",
              "      <th>race</th>\n",
              "      <th>gender</th>\n",
              "      <th>age</th>\n",
              "      <th>weight</th>\n",
              "      <th>admission_type_id</th>\n",
              "      <th>discharge_disposition_id</th>\n",
              "      <th>admission_source_id</th>\n",
              "      <th>time_in_hospital</th>\n",
              "      <th>payer_code</th>\n",
              "      <th>medical_specialty</th>\n",
              "      <th>num_lab_procedures</th>\n",
              "      <th>num_procedures</th>\n",
              "      <th>num_medications</th>\n",
              "      <th>number_outpatient</th>\n",
              "      <th>number_emergency</th>\n",
              "      <th>number_inpatient</th>\n",
              "      <th>diag_1</th>\n",
              "      <th>diag_2</th>\n",
              "      <th>diag_3</th>\n",
              "      <th>number_diagnoses</th>\n",
              "      <th>max_glu_serum</th>\n",
              "      <th>a1cresult</th>\n",
              "      <th>metformin</th>\n",
              "      <th>repaglinide</th>\n",
              "      <th>nateglinide</th>\n",
              "      <th>chlorpropamide</th>\n",
              "      <th>glimepiride</th>\n",
              "      <th>acetohexamide</th>\n",
              "      <th>glipizide</th>\n",
              "      <th>glyburide</th>\n",
              "      <th>tolbutamide</th>\n",
              "      <th>pioglitazone</th>\n",
              "      <th>rosiglitazone</th>\n",
              "      <th>acarbose</th>\n",
              "      <th>miglitol</th>\n",
              "      <th>troglitazone</th>\n",
              "      <th>tolazamide</th>\n",
              "      <th>insulin</th>\n",
              "      <th>glyburide_metformin</th>\n",
              "      <th>glipizide_metformin</th>\n",
              "      <th>glimepiride_pioglitazone</th>\n",
              "      <th>metformin_rosiglitazone</th>\n",
              "      <th>metformin_pioglitazone</th>\n",
              "      <th>change</th>\n",
              "      <th>diabetesmed</th>\n",
              "      <th>readmitted</th>\n",
              "    </tr>\n",
              "    <tr>\n",
              "      <th>encounter_id</th>\n",
              "      <th>patient_nbr</th>\n",
              "      <th></th>\n",
              "      <th></th>\n",
              "      <th></th>\n",
              "      <th></th>\n",
              "      <th></th>\n",
              "      <th></th>\n",
              "      <th></th>\n",
              "      <th></th>\n",
              "      <th></th>\n",
              "      <th></th>\n",
              "      <th></th>\n",
              "      <th></th>\n",
              "      <th></th>\n",
              "      <th></th>\n",
              "      <th></th>\n",
              "      <th></th>\n",
              "      <th></th>\n",
              "      <th></th>\n",
              "      <th></th>\n",
              "      <th></th>\n",
              "      <th></th>\n",
              "      <th></th>\n",
              "      <th></th>\n",
              "      <th></th>\n",
              "      <th></th>\n",
              "      <th></th>\n",
              "      <th></th>\n",
              "      <th></th>\n",
              "      <th></th>\n",
              "      <th></th>\n",
              "      <th></th>\n",
              "      <th></th>\n",
              "      <th></th>\n",
              "      <th></th>\n",
              "      <th></th>\n",
              "      <th></th>\n",
              "      <th></th>\n",
              "      <th></th>\n",
              "      <th></th>\n",
              "      <th></th>\n",
              "      <th></th>\n",
              "      <th></th>\n",
              "      <th></th>\n",
              "      <th></th>\n",
              "      <th></th>\n",
              "      <th></th>\n",
              "    </tr>\n",
              "  </thead>\n",
              "  <tbody>\n",
              "    <tr>\n",
              "      <th>2278392</th>\n",
              "      <th>8222157</th>\n",
              "      <td>Caucasian</td>\n",
              "      <td>Female</td>\n",
              "      <td>[0-10)</td>\n",
              "      <td>NaN</td>\n",
              "      <td>NaN</td>\n",
              "      <td>NaN</td>\n",
              "      <td>Physician Referral</td>\n",
              "      <td>1</td>\n",
              "      <td>NaN</td>\n",
              "      <td>Pediatrics-Endocrinology</td>\n",
              "      <td>41</td>\n",
              "      <td>0</td>\n",
              "      <td>1</td>\n",
              "      <td>0</td>\n",
              "      <td>0</td>\n",
              "      <td>0</td>\n",
              "      <td>250.83</td>\n",
              "      <td>NaN</td>\n",
              "      <td>NaN</td>\n",
              "      <td>1</td>\n",
              "      <td>None</td>\n",
              "      <td>None</td>\n",
              "      <td>No</td>\n",
              "      <td>No</td>\n",
              "      <td>No</td>\n",
              "      <td>No</td>\n",
              "      <td>No</td>\n",
              "      <td>No</td>\n",
              "      <td>No</td>\n",
              "      <td>No</td>\n",
              "      <td>No</td>\n",
              "      <td>No</td>\n",
              "      <td>No</td>\n",
              "      <td>No</td>\n",
              "      <td>No</td>\n",
              "      <td>No</td>\n",
              "      <td>No</td>\n",
              "      <td>No</td>\n",
              "      <td>No</td>\n",
              "      <td>No</td>\n",
              "      <td>No</td>\n",
              "      <td>No</td>\n",
              "      <td>No</td>\n",
              "      <td>No</td>\n",
              "      <td>No</td>\n",
              "      <td>NO</td>\n",
              "    </tr>\n",
              "    <tr>\n",
              "      <th>149190</th>\n",
              "      <th>55629189</th>\n",
              "      <td>Caucasian</td>\n",
              "      <td>Female</td>\n",
              "      <td>[10-20)</td>\n",
              "      <td>NaN</td>\n",
              "      <td>Emergency</td>\n",
              "      <td>Discharged to home</td>\n",
              "      <td>Emergency Room</td>\n",
              "      <td>3</td>\n",
              "      <td>NaN</td>\n",
              "      <td>NaN</td>\n",
              "      <td>59</td>\n",
              "      <td>0</td>\n",
              "      <td>18</td>\n",
              "      <td>0</td>\n",
              "      <td>0</td>\n",
              "      <td>0</td>\n",
              "      <td>276</td>\n",
              "      <td>250.01</td>\n",
              "      <td>255</td>\n",
              "      <td>9</td>\n",
              "      <td>None</td>\n",
              "      <td>None</td>\n",
              "      <td>No</td>\n",
              "      <td>No</td>\n",
              "      <td>No</td>\n",
              "      <td>No</td>\n",
              "      <td>No</td>\n",
              "      <td>No</td>\n",
              "      <td>No</td>\n",
              "      <td>No</td>\n",
              "      <td>No</td>\n",
              "      <td>No</td>\n",
              "      <td>No</td>\n",
              "      <td>No</td>\n",
              "      <td>No</td>\n",
              "      <td>No</td>\n",
              "      <td>No</td>\n",
              "      <td>Up</td>\n",
              "      <td>No</td>\n",
              "      <td>No</td>\n",
              "      <td>No</td>\n",
              "      <td>No</td>\n",
              "      <td>No</td>\n",
              "      <td>Ch</td>\n",
              "      <td>Yes</td>\n",
              "      <td>&gt;30</td>\n",
              "    </tr>\n",
              "    <tr>\n",
              "      <th>64410</th>\n",
              "      <th>86047875</th>\n",
              "      <td>AfricanAmerican</td>\n",
              "      <td>Female</td>\n",
              "      <td>[20-30)</td>\n",
              "      <td>NaN</td>\n",
              "      <td>Emergency</td>\n",
              "      <td>Discharged to home</td>\n",
              "      <td>Emergency Room</td>\n",
              "      <td>2</td>\n",
              "      <td>NaN</td>\n",
              "      <td>NaN</td>\n",
              "      <td>11</td>\n",
              "      <td>5</td>\n",
              "      <td>13</td>\n",
              "      <td>2</td>\n",
              "      <td>0</td>\n",
              "      <td>1</td>\n",
              "      <td>648</td>\n",
              "      <td>250</td>\n",
              "      <td>V27</td>\n",
              "      <td>6</td>\n",
              "      <td>None</td>\n",
              "      <td>None</td>\n",
              "      <td>No</td>\n",
              "      <td>No</td>\n",
              "      <td>No</td>\n",
              "      <td>No</td>\n",
              "      <td>No</td>\n",
              "      <td>No</td>\n",
              "      <td>Steady</td>\n",
              "      <td>No</td>\n",
              "      <td>No</td>\n",
              "      <td>No</td>\n",
              "      <td>No</td>\n",
              "      <td>No</td>\n",
              "      <td>No</td>\n",
              "      <td>No</td>\n",
              "      <td>No</td>\n",
              "      <td>No</td>\n",
              "      <td>No</td>\n",
              "      <td>No</td>\n",
              "      <td>No</td>\n",
              "      <td>No</td>\n",
              "      <td>No</td>\n",
              "      <td>No</td>\n",
              "      <td>Yes</td>\n",
              "      <td>NO</td>\n",
              "    </tr>\n",
              "  </tbody>\n",
              "</table>\n",
              "</div>"
            ],
            "text/plain": [
              "                                     race  gender  ... diabetesmed readmitted\n",
              "encounter_id patient_nbr                           ...                       \n",
              "2278392      8222157            Caucasian  Female  ...          No         NO\n",
              "149190       55629189           Caucasian  Female  ...         Yes        >30\n",
              "64410        86047875     AfricanAmerican  Female  ...         Yes         NO\n",
              "\n",
              "[3 rows x 46 columns]"
            ]
          },
          "metadata": {
            "tags": []
          },
          "execution_count": 69
        }
      ]
    },
    {
      "cell_type": "code",
      "metadata": {
        "colab": {
          "base_uri": "https://localhost:8080/",
          "height": 377
        },
        "id": "h808Y6ZDS6bS",
        "outputId": "ab16cb5f-ef8b-4029-e609-236747ff4c4d"
      },
      "source": [
        "# validacion de registros que contienen valores nulos\r\n",
        "\r\n",
        "filtro_nulos=pd.DataFrame(base.isnull().sum()/base.shape[0], columns=[\"filtro_nulos\"])\r\n",
        "filtro_nulos[filtro_nulos.filtro_nulos> 0]"
      ],
      "execution_count": 70,
      "outputs": [
        {
          "output_type": "execute_result",
          "data": {
            "text/html": [
              "<div>\n",
              "<style scoped>\n",
              "    .dataframe tbody tr th:only-of-type {\n",
              "        vertical-align: middle;\n",
              "    }\n",
              "\n",
              "    .dataframe tbody tr th {\n",
              "        vertical-align: top;\n",
              "    }\n",
              "\n",
              "    .dataframe thead th {\n",
              "        text-align: right;\n",
              "    }\n",
              "</style>\n",
              "<table border=\"1\" class=\"dataframe\">\n",
              "  <thead>\n",
              "    <tr style=\"text-align: right;\">\n",
              "      <th></th>\n",
              "      <th>filtro_nulos</th>\n",
              "    </tr>\n",
              "  </thead>\n",
              "  <tbody>\n",
              "    <tr>\n",
              "      <th>race</th>\n",
              "      <td>0.022336</td>\n",
              "    </tr>\n",
              "    <tr>\n",
              "      <th>gender</th>\n",
              "      <td>0.000029</td>\n",
              "    </tr>\n",
              "    <tr>\n",
              "      <th>weight</th>\n",
              "      <td>0.968585</td>\n",
              "    </tr>\n",
              "    <tr>\n",
              "      <th>admission_type_id</th>\n",
              "      <td>0.055136</td>\n",
              "    </tr>\n",
              "    <tr>\n",
              "      <th>discharge_disposition_id</th>\n",
              "      <td>0.045988</td>\n",
              "    </tr>\n",
              "    <tr>\n",
              "      <th>admission_source_id</th>\n",
              "      <td>0.068215</td>\n",
              "    </tr>\n",
              "    <tr>\n",
              "      <th>payer_code</th>\n",
              "      <td>0.395574</td>\n",
              "    </tr>\n",
              "    <tr>\n",
              "      <th>medical_specialty</th>\n",
              "      <td>0.490822</td>\n",
              "    </tr>\n",
              "    <tr>\n",
              "      <th>diag_1</th>\n",
              "      <td>0.000206</td>\n",
              "    </tr>\n",
              "    <tr>\n",
              "      <th>diag_2</th>\n",
              "      <td>0.003518</td>\n",
              "    </tr>\n",
              "    <tr>\n",
              "      <th>diag_3</th>\n",
              "      <td>0.013983</td>\n",
              "    </tr>\n",
              "  </tbody>\n",
              "</table>\n",
              "</div>"
            ],
            "text/plain": [
              "                          filtro_nulos\n",
              "race                          0.022336\n",
              "gender                        0.000029\n",
              "weight                        0.968585\n",
              "admission_type_id             0.055136\n",
              "discharge_disposition_id      0.045988\n",
              "admission_source_id           0.068215\n",
              "payer_code                    0.395574\n",
              "medical_specialty             0.490822\n",
              "diag_1                        0.000206\n",
              "diag_2                        0.003518\n",
              "diag_3                        0.013983"
            ]
          },
          "metadata": {
            "tags": []
          },
          "execution_count": 70
        }
      ]
    },
    {
      "cell_type": "markdown",
      "metadata": {
        "id": "W08X1Vj7Y38L"
      },
      "source": [
        "Se elimina la variable **weight** ya que gran parte de esta no se encuentra informada"
      ]
    },
    {
      "cell_type": "code",
      "metadata": {
        "id": "XtlwIz0RYyQc"
      },
      "source": [
        "base=base.drop([\"weight\"],axis=1)"
      ],
      "execution_count": 71,
      "outputs": []
    },
    {
      "cell_type": "markdown",
      "metadata": {
        "id": "u-2Kf4O4Zrpp"
      },
      "source": [
        "Para las variables con mayor de 30% y menos del 90%, se valida la moda de los registros no nulos"
      ]
    },
    {
      "cell_type": "code",
      "metadata": {
        "colab": {
          "base_uri": "https://localhost:8080/"
        },
        "id": "Q-_loDaOS6YB",
        "outputId": "d304b63d-dc26-49ad-d0bc-00bb7e1e9900"
      },
      "source": [
        "pd.value_counts(base[\"payer_code\"])/base.shape[0]"
      ],
      "execution_count": 72,
      "outputs": [
        {
          "output_type": "execute_result",
          "data": {
            "text/plain": [
              "MC    0.318761\n",
              "HM    0.061651\n",
              "SP    0.049201\n",
              "BC    0.045742\n",
              "MD    0.034707\n",
              "CP    0.024890\n",
              "UN    0.024055\n",
              "CM    0.019034\n",
              "OG    0.010151\n",
              "PO    0.005817\n",
              "DM    0.005395\n",
              "CH    0.001435\n",
              "WC    0.001327\n",
              "OT    0.000934\n",
              "MP    0.000776\n",
              "SI    0.000540\n",
              "FR    0.000010\n",
              "Name: payer_code, dtype: float64"
            ]
          },
          "metadata": {
            "tags": []
          },
          "execution_count": 72
        }
      ]
    },
    {
      "cell_type": "code",
      "metadata": {
        "colab": {
          "base_uri": "https://localhost:8080/"
        },
        "id": "7U728PXDZ1zF",
        "outputId": "db1da883-9ddb-473e-d0e2-e5e6dfe267df"
      },
      "source": [
        "pd.value_counts(base[\"medical_specialty\"])/base.shape[0]"
      ],
      "execution_count": 73,
      "outputs": [
        {
          "output_type": "execute_result",
          "data": {
            "text/plain": [
              "InternalMedicine                    0.143810\n",
              "Emergency/Trauma                    0.074337\n",
              "Family/GeneralPractice              0.073109\n",
              "Cardiology                          0.052591\n",
              "Surgery-General                     0.030452\n",
              "                                      ...   \n",
              "Surgery-PlasticwithinHeadandNeck    0.000010\n",
              "Neurophysiology                     0.000010\n",
              "SportsMedicine                      0.000010\n",
              "Dermatology                         0.000010\n",
              "Proctology                          0.000010\n",
              "Name: medical_specialty, Length: 72, dtype: float64"
            ]
          },
          "metadata": {
            "tags": []
          },
          "execution_count": 73
        }
      ]
    },
    {
      "cell_type": "markdown",
      "metadata": {
        "id": "8x6gkPppaOqh"
      },
      "source": [
        "Reemplazamos nulos por el valor de la moda en las varaibles requeridas\t "
      ]
    },
    {
      "cell_type": "code",
      "metadata": {
        "id": "C8i1asfHZ1vB"
      },
      "source": [
        "# Reemplazamos nulos por el valor de la moda en las varaibles \"payer_code\" y\t\"medical_specialty\"\t \r\n",
        "\r\n",
        "base[\"race\"].fillna(base[\"race\"].mode()[0], inplace=True)\r\n",
        "base[\"gender\"].fillna(base[\"gender\"].mode()[0], inplace=True)\r\n",
        "base[\"admission_type_id\"].fillna(base[\"admission_type_id\"].mode()[0], inplace=True)\r\n",
        "base[\"discharge_disposition_id\"].fillna(base[\"discharge_disposition_id\"].mode()[0], inplace=True)\r\n",
        "base[\"admission_source_id\"].fillna(base[\"admission_source_id\"].mode()[0], inplace=True)\r\n",
        "base[\"payer_code\"].fillna(base[\"payer_code\"].mode()[0], inplace=True)\r\n",
        "base[\"medical_specialty\"].fillna(base[\"medical_specialty\"].mode()[0], inplace=True)\r\n",
        "base[\"diag_1\"].fillna(base[\"diag_1\"].mode()[0], inplace=True)\r\n",
        "base[\"diag_2\"].fillna(base[\"diag_2\"].mode()[0], inplace=True)\r\n",
        "base[\"diag_3\"].fillna(base[\"diag_3\"].mode()[0], inplace=True)"
      ],
      "execution_count": 74,
      "outputs": []
    },
    {
      "cell_type": "markdown",
      "metadata": {
        "id": "_81I_nb5blYV"
      },
      "source": [
        "### Revisión de Outliers"
      ]
    },
    {
      "cell_type": "code",
      "metadata": {
        "colab": {
          "base_uri": "https://localhost:8080/"
        },
        "id": "oQ1xarSSbJk6",
        "outputId": "516731b2-f453-41ba-e803-57878adcb7cc"
      },
      "source": [
        "columns_numericas = base.select_dtypes(include = np.number).columns.values\r\n",
        "columns_numericas"
      ],
      "execution_count": 75,
      "outputs": [
        {
          "output_type": "execute_result",
          "data": {
            "text/plain": [
              "array(['time_in_hospital', 'num_lab_procedures', 'num_procedures',\n",
              "       'num_medications', 'number_outpatient', 'number_emergency',\n",
              "       'number_inpatient', 'number_diagnoses'], dtype=object)"
            ]
          },
          "metadata": {
            "tags": []
          },
          "execution_count": 75
        }
      ]
    },
    {
      "cell_type": "code",
      "metadata": {
        "colab": {
          "base_uri": "https://localhost:8080/",
          "height": 312
        },
        "id": "oBPevEuFbJhk",
        "outputId": "1976491b-e417-4d26-af82-f38614ce24e8"
      },
      "source": [
        "f, axes = plt.subplots(1, 4, figsize=(30,5))\r\n",
        "sns.boxplot(x=base['time_in_hospital'],palette='husl',ax=axes[0])\r\n",
        "sns.boxplot(x=base['num_lab_procedures'],palette='mako',ax=axes[1])\r\n",
        "sns.boxplot(x=base['num_procedures'],palette='rocket',ax=axes[2])\r\n",
        "sns.boxplot(x=base['num_medications'],palette='crest',ax=axes[3])"
      ],
      "execution_count": 76,
      "outputs": [
        {
          "output_type": "execute_result",
          "data": {
            "text/plain": [
              "<matplotlib.axes._subplots.AxesSubplot at 0x7f0166487ac8>"
            ]
          },
          "metadata": {
            "tags": []
          },
          "execution_count": 76
        },
        {
          "output_type": "display_data",
          "data": {
            "image/png": "[encoded data removed]",
            "text/plain": [
              "<Figure size 2160x360 with 4 Axes>"
            ]
          },
          "metadata": {
            "tags": [],
            "needs_background": "light"
          }
        }
      ]
    },
    {
      "cell_type": "code",
      "metadata": {
        "colab": {
          "base_uri": "https://localhost:8080/",
          "height": 296
        },
        "id": "CtUbH6OZfEVn",
        "outputId": "643addae-b500-4775-e831-3d158656b3a9"
      },
      "source": [
        "f, axes = plt.subplots(1, 4, figsize=(30,5))\r\n",
        "sns.distplot(x=base['time_in_hospital'],ax=axes[0])\r\n",
        "sns.distplot(x=base['num_lab_procedures'],ax=axes[1])\r\n",
        "sns.distplot(x=base['num_procedures'],ax=axes[2])\r\n",
        "sns.distplot(x=base['num_medications'],ax=axes[3])"
      ],
      "execution_count": 77,
      "outputs": [
        {
          "output_type": "execute_result",
          "data": {
            "text/plain": [
              "<matplotlib.axes._subplots.AxesSubplot at 0x7f0166319198>"
            ]
          },
          "metadata": {
            "tags": []
          },
          "execution_count": 77
        },
        {
          "output_type": "display_data",
          "data": {
            "image/png": "[encoded data removed]",
            "text/plain": [
              "<Figure size 2160x360 with 4 Axes>"
            ]
          },
          "metadata": {
            "tags": [],
            "needs_background": "light"
          }
        }
      ]
    },
    {
      "cell_type": "code",
      "metadata": {
        "colab": {
          "base_uri": "https://localhost:8080/",
          "height": 312
        },
        "id": "ZyjXxGgZbJeR",
        "outputId": "3965b84a-7daf-4ba3-ace0-c72ee6d397f8"
      },
      "source": [
        "f, axes = plt.subplots(1, 4, figsize=(30,5))\r\n",
        "sns.boxplot(x=base['number_diagnoses'],palette='husl',ax=axes[0])\r\n",
        "sns.boxplot(x=base['number_inpatient'],palette='mako',ax=axes[1])\r\n",
        "sns.boxplot(x=base['number_outpatient'],palette='crest',ax=axes[2])\r\n",
        "sns.boxplot(x=base['number_emergency'],palette='rocket',ax=axes[3])"
      ],
      "execution_count": 78,
      "outputs": [
        {
          "output_type": "execute_result",
          "data": {
            "text/plain": [
              "<matplotlib.axes._subplots.AxesSubplot at 0x7f0165fae2e8>"
            ]
          },
          "metadata": {
            "tags": []
          },
          "execution_count": 78
        },
        {
          "output_type": "display_data",
          "data": {
            "image/png": "[encoded data removed]",
            "text/plain": [
              "<Figure size 2160x360 with 4 Axes>"
            ]
          },
          "metadata": {
            "tags": [],
            "needs_background": "light"
          }
        }
      ]
    },
    {
      "cell_type": "code",
      "metadata": {
        "colab": {
          "base_uri": "https://localhost:8080/",
          "height": 292
        },
        "id": "LPRsTU6leOI7",
        "outputId": "c2a7080c-436c-407e-cea4-86438d7de4a1"
      },
      "source": [
        "f, axes = plt.subplots(1, 4, figsize=(30,5))\r\n",
        "sns.distplot(x=base['number_diagnoses'],ax=axes[0])\r\n",
        "sns.distplot(x=base['number_inpatient'],ax=axes[1])\r\n",
        "sns.distplot(x=base['number_outpatient'],ax=axes[2])\r\n",
        "sns.distplot(x=base['number_emergency'],ax=axes[3])\r\n"
      ],
      "execution_count": 79,
      "outputs": [
        {
          "output_type": "execute_result",
          "data": {
            "text/plain": [
              "<matplotlib.axes._subplots.AxesSubplot at 0x7f0165e2b630>"
            ]
          },
          "metadata": {
            "tags": []
          },
          "execution_count": 79
        },
        {
          "output_type": "display_data",
          "data": {
            "image/png": "[encoded data removed]",
            "text/plain": [
              "<Figure size 2160x360 with 4 Axes>"
            ]
          },
          "metadata": {
            "tags": [],
            "needs_background": "light"
          }
        }
      ]
    },
    {
      "cell_type": "code",
      "metadata": {
        "colab": {
          "base_uri": "https://localhost:8080/"
        },
        "id": "oWUDFpbTi4e5",
        "outputId": "d7db960c-c771-4eda-8463-01943300f1eb"
      },
      "source": [
        "base.columns"
      ],
      "execution_count": 80,
      "outputs": [
        {
          "output_type": "execute_result",
          "data": {
            "text/plain": [
              "Index(['race', 'gender', 'age', 'admission_type_id',\n",
              "       'discharge_disposition_id', 'admission_source_id', 'time_in_hospital',\n",
              "       'payer_code', 'medical_specialty', 'num_lab_procedures',\n",
              "       'num_procedures', 'num_medications', 'number_outpatient',\n",
              "       'number_emergency', 'number_inpatient', 'diag_1', 'diag_2', 'diag_3',\n",
              "       'number_diagnoses', 'max_glu_serum', 'a1cresult', 'metformin',\n",
              "       'repaglinide', 'nateglinide', 'chlorpropamide', 'glimepiride',\n",
              "       'acetohexamide', 'glipizide', 'glyburide', 'tolbutamide',\n",
              "       'pioglitazone', 'rosiglitazone', 'acarbose', 'miglitol', 'troglitazone',\n",
              "       'tolazamide', 'insulin', 'glyburide_metformin', 'glipizide_metformin',\n",
              "       'glimepiride_pioglitazone', 'metformin_rosiglitazone',\n",
              "       'metformin_pioglitazone', 'change', 'diabetesmed', 'readmitted'],\n",
              "      dtype='object')"
            ]
          },
          "metadata": {
            "tags": []
          },
          "execution_count": 80
        }
      ]
    },
    {
      "cell_type": "code",
      "metadata": {
        "colab": {
          "base_uri": "https://localhost:8080/",
          "height": 331
        },
        "id": "0SCzwT7Zkefk",
        "outputId": "2de17442-84ca-41a9-9b68-af8292b6b576"
      },
      "source": [
        "base.head(5)"
      ],
      "execution_count": 81,
      "outputs": [
        {
          "output_type": "execute_result",
          "data": {
            "text/html": [
              "<div>\n",
              "<style scoped>\n",
              "    .dataframe tbody tr th:only-of-type {\n",
              "        vertical-align: middle;\n",
              "    }\n",
              "\n",
              "    .dataframe tbody tr th {\n",
              "        vertical-align: top;\n",
              "    }\n",
              "\n",
              "    .dataframe thead th {\n",
              "        text-align: right;\n",
              "    }\n",
              "</style>\n",
              "<table border=\"1\" class=\"dataframe\">\n",
              "  <thead>\n",
              "    <tr style=\"text-align: right;\">\n",
              "      <th></th>\n",
              "      <th></th>\n",
              "      <th>race</th>\n",
              "      <th>gender</th>\n",
              "      <th>age</th>\n",
              "      <th>admission_type_id</th>\n",
              "      <th>discharge_disposition_id</th>\n",
              "      <th>admission_source_id</th>\n",
              "      <th>time_in_hospital</th>\n",
              "      <th>payer_code</th>\n",
              "      <th>medical_specialty</th>\n",
              "      <th>num_lab_procedures</th>\n",
              "      <th>num_procedures</th>\n",
              "      <th>num_medications</th>\n",
              "      <th>number_outpatient</th>\n",
              "      <th>number_emergency</th>\n",
              "      <th>number_inpatient</th>\n",
              "      <th>diag_1</th>\n",
              "      <th>diag_2</th>\n",
              "      <th>diag_3</th>\n",
              "      <th>number_diagnoses</th>\n",
              "      <th>max_glu_serum</th>\n",
              "      <th>a1cresult</th>\n",
              "      <th>metformin</th>\n",
              "      <th>repaglinide</th>\n",
              "      <th>nateglinide</th>\n",
              "      <th>chlorpropamide</th>\n",
              "      <th>glimepiride</th>\n",
              "      <th>acetohexamide</th>\n",
              "      <th>glipizide</th>\n",
              "      <th>glyburide</th>\n",
              "      <th>tolbutamide</th>\n",
              "      <th>pioglitazone</th>\n",
              "      <th>rosiglitazone</th>\n",
              "      <th>acarbose</th>\n",
              "      <th>miglitol</th>\n",
              "      <th>troglitazone</th>\n",
              "      <th>tolazamide</th>\n",
              "      <th>insulin</th>\n",
              "      <th>glyburide_metformin</th>\n",
              "      <th>glipizide_metformin</th>\n",
              "      <th>glimepiride_pioglitazone</th>\n",
              "      <th>metformin_rosiglitazone</th>\n",
              "      <th>metformin_pioglitazone</th>\n",
              "      <th>change</th>\n",
              "      <th>diabetesmed</th>\n",
              "      <th>readmitted</th>\n",
              "    </tr>\n",
              "    <tr>\n",
              "      <th>encounter_id</th>\n",
              "      <th>patient_nbr</th>\n",
              "      <th></th>\n",
              "      <th></th>\n",
              "      <th></th>\n",
              "      <th></th>\n",
              "      <th></th>\n",
              "      <th></th>\n",
              "      <th></th>\n",
              "      <th></th>\n",
              "      <th></th>\n",
              "      <th></th>\n",
              "      <th></th>\n",
              "      <th></th>\n",
              "      <th></th>\n",
              "      <th></th>\n",
              "      <th></th>\n",
              "      <th></th>\n",
              "      <th></th>\n",
              "      <th></th>\n",
              "      <th></th>\n",
              "      <th></th>\n",
              "      <th></th>\n",
              "      <th></th>\n",
              "      <th></th>\n",
              "      <th></th>\n",
              "      <th></th>\n",
              "      <th></th>\n",
              "      <th></th>\n",
              "      <th></th>\n",
              "      <th></th>\n",
              "      <th></th>\n",
              "      <th></th>\n",
              "      <th></th>\n",
              "      <th></th>\n",
              "      <th></th>\n",
              "      <th></th>\n",
              "      <th></th>\n",
              "      <th></th>\n",
              "      <th></th>\n",
              "      <th></th>\n",
              "      <th></th>\n",
              "      <th></th>\n",
              "      <th></th>\n",
              "      <th></th>\n",
              "      <th></th>\n",
              "      <th></th>\n",
              "    </tr>\n",
              "  </thead>\n",
              "  <tbody>\n",
              "    <tr>\n",
              "      <th>2278392</th>\n",
              "      <th>8222157</th>\n",
              "      <td>Caucasian</td>\n",
              "      <td>Female</td>\n",
              "      <td>[0-10)</td>\n",
              "      <td>Emergency</td>\n",
              "      <td>Discharged to home</td>\n",
              "      <td>Physician Referral</td>\n",
              "      <td>1</td>\n",
              "      <td>MC</td>\n",
              "      <td>Pediatrics-Endocrinology</td>\n",
              "      <td>41</td>\n",
              "      <td>0</td>\n",
              "      <td>1</td>\n",
              "      <td>0</td>\n",
              "      <td>0</td>\n",
              "      <td>0</td>\n",
              "      <td>250.83</td>\n",
              "      <td>276</td>\n",
              "      <td>250</td>\n",
              "      <td>1</td>\n",
              "      <td>None</td>\n",
              "      <td>None</td>\n",
              "      <td>No</td>\n",
              "      <td>No</td>\n",
              "      <td>No</td>\n",
              "      <td>No</td>\n",
              "      <td>No</td>\n",
              "      <td>No</td>\n",
              "      <td>No</td>\n",
              "      <td>No</td>\n",
              "      <td>No</td>\n",
              "      <td>No</td>\n",
              "      <td>No</td>\n",
              "      <td>No</td>\n",
              "      <td>No</td>\n",
              "      <td>No</td>\n",
              "      <td>No</td>\n",
              "      <td>No</td>\n",
              "      <td>No</td>\n",
              "      <td>No</td>\n",
              "      <td>No</td>\n",
              "      <td>No</td>\n",
              "      <td>No</td>\n",
              "      <td>No</td>\n",
              "      <td>No</td>\n",
              "      <td>NO</td>\n",
              "    </tr>\n",
              "    <tr>\n",
              "      <th>149190</th>\n",
              "      <th>55629189</th>\n",
              "      <td>Caucasian</td>\n",
              "      <td>Female</td>\n",
              "      <td>[10-20)</td>\n",
              "      <td>Emergency</td>\n",
              "      <td>Discharged to home</td>\n",
              "      <td>Emergency Room</td>\n",
              "      <td>3</td>\n",
              "      <td>MC</td>\n",
              "      <td>InternalMedicine</td>\n",
              "      <td>59</td>\n",
              "      <td>0</td>\n",
              "      <td>18</td>\n",
              "      <td>0</td>\n",
              "      <td>0</td>\n",
              "      <td>0</td>\n",
              "      <td>276</td>\n",
              "      <td>250.01</td>\n",
              "      <td>255</td>\n",
              "      <td>9</td>\n",
              "      <td>None</td>\n",
              "      <td>None</td>\n",
              "      <td>No</td>\n",
              "      <td>No</td>\n",
              "      <td>No</td>\n",
              "      <td>No</td>\n",
              "      <td>No</td>\n",
              "      <td>No</td>\n",
              "      <td>No</td>\n",
              "      <td>No</td>\n",
              "      <td>No</td>\n",
              "      <td>No</td>\n",
              "      <td>No</td>\n",
              "      <td>No</td>\n",
              "      <td>No</td>\n",
              "      <td>No</td>\n",
              "      <td>No</td>\n",
              "      <td>Up</td>\n",
              "      <td>No</td>\n",
              "      <td>No</td>\n",
              "      <td>No</td>\n",
              "      <td>No</td>\n",
              "      <td>No</td>\n",
              "      <td>Ch</td>\n",
              "      <td>Yes</td>\n",
              "      <td>&gt;30</td>\n",
              "    </tr>\n",
              "    <tr>\n",
              "      <th>64410</th>\n",
              "      <th>86047875</th>\n",
              "      <td>AfricanAmerican</td>\n",
              "      <td>Female</td>\n",
              "      <td>[20-30)</td>\n",
              "      <td>Emergency</td>\n",
              "      <td>Discharged to home</td>\n",
              "      <td>Emergency Room</td>\n",
              "      <td>2</td>\n",
              "      <td>MC</td>\n",
              "      <td>InternalMedicine</td>\n",
              "      <td>11</td>\n",
              "      <td>5</td>\n",
              "      <td>13</td>\n",
              "      <td>2</td>\n",
              "      <td>0</td>\n",
              "      <td>1</td>\n",
              "      <td>648</td>\n",
              "      <td>250</td>\n",
              "      <td>V27</td>\n",
              "      <td>6</td>\n",
              "      <td>None</td>\n",
              "      <td>None</td>\n",
              "      <td>No</td>\n",
              "      <td>No</td>\n",
              "      <td>No</td>\n",
              "      <td>No</td>\n",
              "      <td>No</td>\n",
              "      <td>No</td>\n",
              "      <td>Steady</td>\n",
              "      <td>No</td>\n",
              "      <td>No</td>\n",
              "      <td>No</td>\n",
              "      <td>No</td>\n",
              "      <td>No</td>\n",
              "      <td>No</td>\n",
              "      <td>No</td>\n",
              "      <td>No</td>\n",
              "      <td>No</td>\n",
              "      <td>No</td>\n",
              "      <td>No</td>\n",
              "      <td>No</td>\n",
              "      <td>No</td>\n",
              "      <td>No</td>\n",
              "      <td>No</td>\n",
              "      <td>Yes</td>\n",
              "      <td>NO</td>\n",
              "    </tr>\n",
              "    <tr>\n",
              "      <th>500364</th>\n",
              "      <th>82442376</th>\n",
              "      <td>Caucasian</td>\n",
              "      <td>Male</td>\n",
              "      <td>[30-40)</td>\n",
              "      <td>Emergency</td>\n",
              "      <td>Discharged to home</td>\n",
              "      <td>Emergency Room</td>\n",
              "      <td>2</td>\n",
              "      <td>MC</td>\n",
              "      <td>InternalMedicine</td>\n",
              "      <td>44</td>\n",
              "      <td>1</td>\n",
              "      <td>16</td>\n",
              "      <td>0</td>\n",
              "      <td>0</td>\n",
              "      <td>0</td>\n",
              "      <td>8</td>\n",
              "      <td>250.43</td>\n",
              "      <td>403</td>\n",
              "      <td>7</td>\n",
              "      <td>None</td>\n",
              "      <td>None</td>\n",
              "      <td>No</td>\n",
              "      <td>No</td>\n",
              "      <td>No</td>\n",
              "      <td>No</td>\n",
              "      <td>No</td>\n",
              "      <td>No</td>\n",
              "      <td>No</td>\n",
              "      <td>No</td>\n",
              "      <td>No</td>\n",
              "      <td>No</td>\n",
              "      <td>No</td>\n",
              "      <td>No</td>\n",
              "      <td>No</td>\n",
              "      <td>No</td>\n",
              "      <td>No</td>\n",
              "      <td>Up</td>\n",
              "      <td>No</td>\n",
              "      <td>No</td>\n",
              "      <td>No</td>\n",
              "      <td>No</td>\n",
              "      <td>No</td>\n",
              "      <td>Ch</td>\n",
              "      <td>Yes</td>\n",
              "      <td>NO</td>\n",
              "    </tr>\n",
              "    <tr>\n",
              "      <th>16680</th>\n",
              "      <th>42519267</th>\n",
              "      <td>Caucasian</td>\n",
              "      <td>Male</td>\n",
              "      <td>[40-50)</td>\n",
              "      <td>Emergency</td>\n",
              "      <td>Discharged to home</td>\n",
              "      <td>Emergency Room</td>\n",
              "      <td>1</td>\n",
              "      <td>MC</td>\n",
              "      <td>InternalMedicine</td>\n",
              "      <td>51</td>\n",
              "      <td>0</td>\n",
              "      <td>8</td>\n",
              "      <td>0</td>\n",
              "      <td>0</td>\n",
              "      <td>0</td>\n",
              "      <td>197</td>\n",
              "      <td>157</td>\n",
              "      <td>250</td>\n",
              "      <td>5</td>\n",
              "      <td>None</td>\n",
              "      <td>None</td>\n",
              "      <td>No</td>\n",
              "      <td>No</td>\n",
              "      <td>No</td>\n",
              "      <td>No</td>\n",
              "      <td>No</td>\n",
              "      <td>No</td>\n",
              "      <td>Steady</td>\n",
              "      <td>No</td>\n",
              "      <td>No</td>\n",
              "      <td>No</td>\n",
              "      <td>No</td>\n",
              "      <td>No</td>\n",
              "      <td>No</td>\n",
              "      <td>No</td>\n",
              "      <td>No</td>\n",
              "      <td>Steady</td>\n",
              "      <td>No</td>\n",
              "      <td>No</td>\n",
              "      <td>No</td>\n",
              "      <td>No</td>\n",
              "      <td>No</td>\n",
              "      <td>Ch</td>\n",
              "      <td>Yes</td>\n",
              "      <td>NO</td>\n",
              "    </tr>\n",
              "  </tbody>\n",
              "</table>\n",
              "</div>"
            ],
            "text/plain": [
              "                                     race  gender  ... diabetesmed readmitted\n",
              "encounter_id patient_nbr                           ...                       \n",
              "2278392      8222157            Caucasian  Female  ...          No         NO\n",
              "149190       55629189           Caucasian  Female  ...         Yes        >30\n",
              "64410        86047875     AfricanAmerican  Female  ...         Yes         NO\n",
              "500364       82442376           Caucasian    Male  ...         Yes         NO\n",
              "16680        42519267           Caucasian    Male  ...         Yes         NO\n",
              "\n",
              "[5 rows x 45 columns]"
            ]
          },
          "metadata": {
            "tags": []
          },
          "execution_count": 81
        }
      ]
    },
    {
      "cell_type": "code",
      "metadata": {
        "colab": {
          "base_uri": "https://localhost:8080/"
        },
        "id": "lYbPWJDPm7-H",
        "outputId": "967428f3-453f-4afd-afc8-c215826bdc72"
      },
      "source": [
        "categoricas=base.select_dtypes(include=np.object)\r\n",
        "categoricas.columns"
      ],
      "execution_count": 86,
      "outputs": [
        {
          "output_type": "execute_result",
          "data": {
            "text/plain": [
              "Index(['race', 'gender', 'age', 'admission_type_id',\n",
              "       'discharge_disposition_id', 'admission_source_id', 'payer_code',\n",
              "       'medical_specialty', 'diag_1', 'diag_2', 'diag_3', 'max_glu_serum',\n",
              "       'a1cresult', 'metformin', 'repaglinide', 'nateglinide',\n",
              "       'chlorpropamide', 'glimepiride', 'acetohexamide', 'glipizide',\n",
              "       'glyburide', 'tolbutamide', 'pioglitazone', 'rosiglitazone', 'acarbose',\n",
              "       'miglitol', 'troglitazone', 'tolazamide', 'insulin',\n",
              "       'glyburide_metformin', 'glipizide_metformin',\n",
              "       'glimepiride_pioglitazone', 'metformin_rosiglitazone',\n",
              "       'metformin_pioglitazone', 'change', 'diabetesmed', 'readmitted'],\n",
              "      dtype='object')"
            ]
          },
          "metadata": {
            "tags": []
          },
          "execution_count": 86
        }
      ]
    },
    {
      "cell_type": "markdown",
      "metadata": {
        "id": "onOTMLlLzbfj"
      },
      "source": [
        " Crear base de copia para no afectar el tratamiento previo"
      ]
    },
    {
      "cell_type": "code",
      "metadata": {
        "id": "6rxohwo6qDUg"
      },
      "source": [
        "df=base.copy()"
      ],
      "execution_count": 116,
      "outputs": []
    },
    {
      "cell_type": "markdown",
      "metadata": {
        "id": "vMGgtBinzhcF"
      },
      "source": [
        "Creación de tablas cruzadas para validación de variable objetivo con las variables categoricas"
      ]
    },
    {
      "cell_type": "code",
      "metadata": {
        "colab": {
          "base_uri": "https://localhost:8080/",
          "height": 251
        },
        "id": "aZbnNEAC5DQX",
        "outputId": "e343bf55-38eb-4c59-91e8-4438f82d8ff5"
      },
      "source": [
        "pd.crosstab(df['readmitted'], df['admission_source_id'])"
      ],
      "execution_count": 117,
      "outputs": [
        {
          "output_type": "execute_result",
          "data": {
            "text/html": [
              "<div>\n",
              "<style scoped>\n",
              "    .dataframe tbody tr th:only-of-type {\n",
              "        vertical-align: middle;\n",
              "    }\n",
              "\n",
              "    .dataframe tbody tr th {\n",
              "        vertical-align: top;\n",
              "    }\n",
              "\n",
              "    .dataframe thead th {\n",
              "        text-align: right;\n",
              "    }\n",
              "</style>\n",
              "<table border=\"1\" class=\"dataframe\">\n",
              "  <thead>\n",
              "    <tr style=\"text-align: right;\">\n",
              "      <th>admission_source_id</th>\n",
              "      <th>Clinic Referral</th>\n",
              "      <th>Court/Law Enforcement</th>\n",
              "      <th>Emergency Room</th>\n",
              "      <th>Extramural Birth</th>\n",
              "      <th>HMO Referral</th>\n",
              "      <th>Normal Delivery</th>\n",
              "      <th>Not Available</th>\n",
              "      <th>Physician Referral</th>\n",
              "      <th>Sick Baby</th>\n",
              "      <th>Transfer from Ambulatory Surgery Center</th>\n",
              "      <th>Transfer from a Skilled Nursing Facility (SNF)</th>\n",
              "      <th>Transfer from a hospital</th>\n",
              "      <th>Transfer from another health care facility</th>\n",
              "      <th>Transfer from critial access hospital</th>\n",
              "      <th>Transfer from hospital inpt/same fac reslt in a sep claim</th>\n",
              "    </tr>\n",
              "    <tr>\n",
              "      <th>readmitted</th>\n",
              "      <th></th>\n",
              "      <th></th>\n",
              "      <th></th>\n",
              "      <th></th>\n",
              "      <th></th>\n",
              "      <th></th>\n",
              "      <th></th>\n",
              "      <th></th>\n",
              "      <th></th>\n",
              "      <th></th>\n",
              "      <th></th>\n",
              "      <th></th>\n",
              "      <th></th>\n",
              "      <th></th>\n",
              "      <th></th>\n",
              "    </tr>\n",
              "  </thead>\n",
              "  <tbody>\n",
              "    <tr>\n",
              "      <th>&lt;30</th>\n",
              "      <td>111</td>\n",
              "      <td>2</td>\n",
              "      <td>7448</td>\n",
              "      <td>0</td>\n",
              "      <td>29</td>\n",
              "      <td>0</td>\n",
              "      <td>13</td>\n",
              "      <td>3130</td>\n",
              "      <td>0</td>\n",
              "      <td>0</td>\n",
              "      <td>101</td>\n",
              "      <td>309</td>\n",
              "      <td>212</td>\n",
              "      <td>0</td>\n",
              "      <td>2</td>\n",
              "    </tr>\n",
              "    <tr>\n",
              "      <th>&gt;30</th>\n",
              "      <td>310</td>\n",
              "      <td>4</td>\n",
              "      <td>24206</td>\n",
              "      <td>0</td>\n",
              "      <td>58</td>\n",
              "      <td>0</td>\n",
              "      <td>16</td>\n",
              "      <td>9640</td>\n",
              "      <td>0</td>\n",
              "      <td>0</td>\n",
              "      <td>236</td>\n",
              "      <td>672</td>\n",
              "      <td>398</td>\n",
              "      <td>2</td>\n",
              "      <td>3</td>\n",
              "    </tr>\n",
              "    <tr>\n",
              "      <th>NO</th>\n",
              "      <td>683</td>\n",
              "      <td>10</td>\n",
              "      <td>32782</td>\n",
              "      <td>2</td>\n",
              "      <td>100</td>\n",
              "      <td>2</td>\n",
              "      <td>96</td>\n",
              "      <td>16795</td>\n",
              "      <td>1</td>\n",
              "      <td>2</td>\n",
              "      <td>518</td>\n",
              "      <td>2206</td>\n",
              "      <td>1654</td>\n",
              "      <td>6</td>\n",
              "      <td>7</td>\n",
              "    </tr>\n",
              "  </tbody>\n",
              "</table>\n",
              "</div>"
            ],
            "text/plain": [
              "admission_source_id  Clinic Referral  ...  Transfer from hospital inpt/same fac reslt in a sep claim\n",
              "readmitted                            ...                                                           \n",
              "<30                              111  ...                                                  2        \n",
              ">30                              310  ...                                                  3        \n",
              "NO                               683  ...                                                  7        \n",
              "\n",
              "[3 rows x 15 columns]"
            ]
          },
          "metadata": {
            "tags": []
          },
          "execution_count": 117
        }
      ]
    },
    {
      "cell_type": "markdown",
      "metadata": {
        "id": "14-WtsQozwRt"
      },
      "source": [
        "Se presentan muchas categorias por variables, así que se procede a unificar en categorias más generales"
      ]
    },
    {
      "cell_type": "code",
      "metadata": {
        "id": "CHid7nXMpJWJ"
      },
      "source": [
        "df.loc[df['race'].isin(['Asian','Hispanic']),'race']='Other'\r\n",
        "df.loc[df['admission_type_id'].isin(['Newborn','Trauma Center']),'admission_type_id']='Not Available'\r\n",
        "\r\n",
        "df.loc[df['admission_source_id'].isin(['Transfer from Ambulatory Surgery Center','Transfer from a Skilled Nursing Facility (SNF)',\r\n",
        "                                       'Transfer from a hospital','Transfer from another health care facility','Transfer from critial access hospital',\r\n",
        "                                       'Transfer from hospital inpt/same fac reslt in a sep claim']),'admission_source_id']='Transfer'\r\n",
        "df.loc[df['admission_source_id'].isin(['Court/Law Enforcement','Extramural Birth','Normal Delivery','Not Available','Sick Baby','HMO Referral']),'admission_source_id']='Other'                                      \r\n",
        "\r\n",
        "df.loc[df['discharge_disposition_id'].isin(['Expired','Expired at home. Medicaid only, hospice','Expired in a medical facility. Medicaid only, hospice.']),'discharge_disposition_id']='Expired'\r\n",
        "df.loc[df['discharge_disposition_id'].isin(['Hospice / home','Hospice / medical facility']),'discharge_disposition_id']='Hospice'\r\n",
        "df.loc[df['discharge_disposition_id'].isin(['Left AMA','Neonate discharged to another hospital for neonatal aftercare',\r\n",
        "                                            'Still patient or expected to return for outpatient services','Admitted as an inpatient to this hospital']),'discharge_disposition_id']='Other'\r\n",
        "df.loc[~df['discharge_disposition_id'].isin(['Expired','Hospice','Other']),'discharge_disposition_id']='Discharged '\r\n",
        "\r\n",
        "df.loc[df['medical_specialty'].isin(['Cardiology-Pediatric']),'medical_specialty']='Cardiology'\r\n",
        "df.loc[df['medical_specialty'].isin(['Neurology','Neurophysiology']),'medical_specialty']='Nephrology'\r\n",
        "df.loc[df['medical_specialty'].isin(['Orthopedics-Reconstructive','Osteopath']),'medical_specialty']='Orthopedics'\r\n",
        "df.loc[df['medical_specialty'].isin(['Pediatrics-AllergyandImmunology','Pediatrics-CriticalCare','Pediatrics-EmergencyMedicine','Pediatrics-Endocrinology',\r\n",
        "                                     'Pediatrics-Hematology-Oncology','Pediatrics-InfectiousDiseases','Pediatrics-Neurology',\r\n",
        "                                     'Pediatrics-Pulmonology']),'medical_specialty']='Pediatrics'\r\n",
        "df.loc[df['medical_specialty'].isin(['Psychiatry-Addictive','Psychiatry-Child/Adolescent','Psychology']),'medical_specialty']='Psychiatry'  \r\n",
        "df.loc[df['medical_specialty'].isin(['Radiology']),'medical_specialty']='Radiologist'                                    \r\n",
        "\r\n",
        "df.loc[df['medical_specialty'].isin(['Surgeon','Surgery-Cardiovascular','Surgery-Cardiovascular/Thoracic','Surgery-Colon&Rectal',\r\n",
        "                                     'Surgery-General','Surgery-Maxillofacial','Surgery-Neuro','Surgery-Pediatric','Surgery-Plastic',\r\n",
        "                                     'Surgery-PlasticwithinHeadandNeck','Surgery-Thoracic','Surgery-Vascular','SurgicalSpecialty']),'medical_specialty']='Surgery-General'    \r\n",
        "df.loc[df['medical_specialty'].isin(['Obsterics&Gynecology-GynecologicOnco','Obstetrics','ObstetricsandGynecology']),'medical_specialty']='Gynecology'\r\n",
        "df.loc[~df['medical_specialty'].isin(['InternalMedicine','Emergency/Trauma','Family/GeneralPractice','Cardiology',\r\n",
        "                                      'Surgery-General','Nephrology','Gynecology','Orthopedics','Psychiatry','Radiologist']),'medical_specialty']='Other'\r\n"
      ],
      "execution_count": 118,
      "outputs": []
    },
    {
      "cell_type": "markdown",
      "metadata": {
        "id": "-T6vYUDa0H88"
      },
      "source": [
        "Son más categorias de lo que se pueden agrupar y no hay criteri clar para realizar tal agrupación, por lo que se procede a eliminar la siguientes variables."
      ]
    },
    {
      "cell_type": "code",
      "metadata": {
        "id": "bEu86orptoYT"
      },
      "source": [
        "df=df.drop(['payer_code','diag_1','diag_2','diag_3'], axis=1)"
      ],
      "execution_count": 119,
      "outputs": []
    },
    {
      "cell_type": "markdown",
      "metadata": {
        "id": "qLAOOjIL0Uo4"
      },
      "source": [
        "Asignación de variables objetivosa clasificación binaria "
      ]
    },
    {
      "cell_type": "code",
      "metadata": {
        "id": "XNqCFB7iGklG"
      },
      "source": [
        "df.loc[(df.readmitted=='>30') | (df.readmitted=='<30'),'y_bool' ]=1\r\n",
        "df.loc[(df.readmitted=='NO'),'y_bool' ]=0"
      ],
      "execution_count": 120,
      "outputs": []
    },
    {
      "cell_type": "markdown",
      "metadata": {
        "id": "yFUty_670fEG"
      },
      "source": [
        "Formateo de variable objetivo"
      ]
    },
    {
      "cell_type": "code",
      "metadata": {
        "id": "39Nq2VL718FL"
      },
      "source": [
        "readmitted_bool ={'>30':1, '<30':2, 'NO':3}\r\n",
        "df[\"readmitted\"] = df[\"readmitted\"].map(readmitted_bool)"
      ],
      "execution_count": 121,
      "outputs": []
    },
    {
      "cell_type": "code",
      "metadata": {
        "colab": {
          "base_uri": "https://localhost:8080/"
        },
        "id": "dlYncJOK2mZz",
        "outputId": "15522149-1872-4c07-cee8-a166f02d8930"
      },
      "source": [
        "serie = df.nunique()\r\n",
        "serie"
      ],
      "execution_count": 122,
      "outputs": [
        {
          "output_type": "execute_result",
          "data": {
            "text/plain": [
              "race                          3\n",
              "gender                        2\n",
              "age                          10\n",
              "admission_type_id             4\n",
              "discharge_disposition_id      4\n",
              "admission_source_id           5\n",
              "time_in_hospital             14\n",
              "medical_specialty            11\n",
              "num_lab_procedures          118\n",
              "num_procedures                7\n",
              "num_medications              75\n",
              "number_outpatient            39\n",
              "number_emergency             33\n",
              "number_inpatient             21\n",
              "number_diagnoses             16\n",
              "max_glu_serum                 4\n",
              "a1cresult                     4\n",
              "metformin                     4\n",
              "repaglinide                   4\n",
              "nateglinide                   4\n",
              "chlorpropamide                4\n",
              "glimepiride                   4\n",
              "acetohexamide                 2\n",
              "glipizide                     4\n",
              "glyburide                     4\n",
              "tolbutamide                   2\n",
              "pioglitazone                  4\n",
              "rosiglitazone                 4\n",
              "acarbose                      4\n",
              "miglitol                      4\n",
              "troglitazone                  2\n",
              "tolazamide                    3\n",
              "insulin                       4\n",
              "glyburide_metformin           4\n",
              "glipizide_metformin           2\n",
              "glimepiride_pioglitazone      2\n",
              "metformin_rosiglitazone       2\n",
              "metformin_pioglitazone        2\n",
              "change                        2\n",
              "diabetesmed                   2\n",
              "readmitted                    3\n",
              "y_bool                        2\n",
              "dtype: int64"
            ]
          },
          "metadata": {
            "tags": []
          },
          "execution_count": 122
        }
      ]
    },
    {
      "cell_type": "code",
      "metadata": {
        "colab": {
          "base_uri": "https://localhost:8080/",
          "height": 191
        },
        "id": "X4yI_HdK3g-P",
        "outputId": "30062313-268f-4dd1-e483-c0e5545557aa"
      },
      "source": [
        "categoricas=df.select_dtypes(include=np.object)\r\n",
        "categoricas.head(2)"
      ],
      "execution_count": 123,
      "outputs": [
        {
          "output_type": "execute_result",
          "data": {
            "text/html": [
              "<div>\n",
              "<style scoped>\n",
              "    .dataframe tbody tr th:only-of-type {\n",
              "        vertical-align: middle;\n",
              "    }\n",
              "\n",
              "    .dataframe tbody tr th {\n",
              "        vertical-align: top;\n",
              "    }\n",
              "\n",
              "    .dataframe thead th {\n",
              "        text-align: right;\n",
              "    }\n",
              "</style>\n",
              "<table border=\"1\" class=\"dataframe\">\n",
              "  <thead>\n",
              "    <tr style=\"text-align: right;\">\n",
              "      <th></th>\n",
              "      <th></th>\n",
              "      <th>race</th>\n",
              "      <th>gender</th>\n",
              "      <th>age</th>\n",
              "      <th>admission_type_id</th>\n",
              "      <th>discharge_disposition_id</th>\n",
              "      <th>admission_source_id</th>\n",
              "      <th>medical_specialty</th>\n",
              "      <th>max_glu_serum</th>\n",
              "      <th>a1cresult</th>\n",
              "      <th>metformin</th>\n",
              "      <th>repaglinide</th>\n",
              "      <th>nateglinide</th>\n",
              "      <th>chlorpropamide</th>\n",
              "      <th>glimepiride</th>\n",
              "      <th>acetohexamide</th>\n",
              "      <th>glipizide</th>\n",
              "      <th>glyburide</th>\n",
              "      <th>tolbutamide</th>\n",
              "      <th>pioglitazone</th>\n",
              "      <th>rosiglitazone</th>\n",
              "      <th>acarbose</th>\n",
              "      <th>miglitol</th>\n",
              "      <th>troglitazone</th>\n",
              "      <th>tolazamide</th>\n",
              "      <th>insulin</th>\n",
              "      <th>glyburide_metformin</th>\n",
              "      <th>glipizide_metformin</th>\n",
              "      <th>glimepiride_pioglitazone</th>\n",
              "      <th>metformin_rosiglitazone</th>\n",
              "      <th>metformin_pioglitazone</th>\n",
              "      <th>change</th>\n",
              "      <th>diabetesmed</th>\n",
              "    </tr>\n",
              "    <tr>\n",
              "      <th>encounter_id</th>\n",
              "      <th>patient_nbr</th>\n",
              "      <th></th>\n",
              "      <th></th>\n",
              "      <th></th>\n",
              "      <th></th>\n",
              "      <th></th>\n",
              "      <th></th>\n",
              "      <th></th>\n",
              "      <th></th>\n",
              "      <th></th>\n",
              "      <th></th>\n",
              "      <th></th>\n",
              "      <th></th>\n",
              "      <th></th>\n",
              "      <th></th>\n",
              "      <th></th>\n",
              "      <th></th>\n",
              "      <th></th>\n",
              "      <th></th>\n",
              "      <th></th>\n",
              "      <th></th>\n",
              "      <th></th>\n",
              "      <th></th>\n",
              "      <th></th>\n",
              "      <th></th>\n",
              "      <th></th>\n",
              "      <th></th>\n",
              "      <th></th>\n",
              "      <th></th>\n",
              "      <th></th>\n",
              "      <th></th>\n",
              "      <th></th>\n",
              "      <th></th>\n",
              "    </tr>\n",
              "  </thead>\n",
              "  <tbody>\n",
              "    <tr>\n",
              "      <th>2278392</th>\n",
              "      <th>8222157</th>\n",
              "      <td>Caucasian</td>\n",
              "      <td>Female</td>\n",
              "      <td>[0-10)</td>\n",
              "      <td>Emergency</td>\n",
              "      <td>Discharged</td>\n",
              "      <td>Physician Referral</td>\n",
              "      <td>Other</td>\n",
              "      <td>None</td>\n",
              "      <td>None</td>\n",
              "      <td>No</td>\n",
              "      <td>No</td>\n",
              "      <td>No</td>\n",
              "      <td>No</td>\n",
              "      <td>No</td>\n",
              "      <td>No</td>\n",
              "      <td>No</td>\n",
              "      <td>No</td>\n",
              "      <td>No</td>\n",
              "      <td>No</td>\n",
              "      <td>No</td>\n",
              "      <td>No</td>\n",
              "      <td>No</td>\n",
              "      <td>No</td>\n",
              "      <td>No</td>\n",
              "      <td>No</td>\n",
              "      <td>No</td>\n",
              "      <td>No</td>\n",
              "      <td>No</td>\n",
              "      <td>No</td>\n",
              "      <td>No</td>\n",
              "      <td>No</td>\n",
              "      <td>No</td>\n",
              "    </tr>\n",
              "    <tr>\n",
              "      <th>149190</th>\n",
              "      <th>55629189</th>\n",
              "      <td>Caucasian</td>\n",
              "      <td>Female</td>\n",
              "      <td>[10-20)</td>\n",
              "      <td>Emergency</td>\n",
              "      <td>Discharged</td>\n",
              "      <td>Emergency Room</td>\n",
              "      <td>InternalMedicine</td>\n",
              "      <td>None</td>\n",
              "      <td>None</td>\n",
              "      <td>No</td>\n",
              "      <td>No</td>\n",
              "      <td>No</td>\n",
              "      <td>No</td>\n",
              "      <td>No</td>\n",
              "      <td>No</td>\n",
              "      <td>No</td>\n",
              "      <td>No</td>\n",
              "      <td>No</td>\n",
              "      <td>No</td>\n",
              "      <td>No</td>\n",
              "      <td>No</td>\n",
              "      <td>No</td>\n",
              "      <td>No</td>\n",
              "      <td>No</td>\n",
              "      <td>Up</td>\n",
              "      <td>No</td>\n",
              "      <td>No</td>\n",
              "      <td>No</td>\n",
              "      <td>No</td>\n",
              "      <td>No</td>\n",
              "      <td>Ch</td>\n",
              "      <td>Yes</td>\n",
              "    </tr>\n",
              "  </tbody>\n",
              "</table>\n",
              "</div>"
            ],
            "text/plain": [
              "                               race  gender  ... change diabetesmed\n",
              "encounter_id patient_nbr                     ...                   \n",
              "2278392      8222157      Caucasian  Female  ...     No          No\n",
              "149190       55629189     Caucasian  Female  ...     Ch         Yes\n",
              "\n",
              "[2 rows x 32 columns]"
            ]
          },
          "metadata": {
            "tags": []
          },
          "execution_count": 123
        }
      ]
    },
    {
      "cell_type": "markdown",
      "metadata": {
        "id": "ADXnJNr10uv_"
      },
      "source": [
        "Revisión de dimensión del dataset"
      ]
    },
    {
      "cell_type": "code",
      "metadata": {
        "colab": {
          "base_uri": "https://localhost:8080/"
        },
        "id": "MTwipsL19O4i",
        "outputId": "7a8bc941-6575-4204-b62e-cffaffb0918b"
      },
      "source": [
        "categoricas.shape"
      ],
      "execution_count": 124,
      "outputs": [
        {
          "output_type": "execute_result",
          "data": {
            "text/plain": [
              "(101766, 32)"
            ]
          },
          "metadata": {
            "tags": []
          },
          "execution_count": 124
        }
      ]
    },
    {
      "cell_type": "markdown",
      "metadata": {
        "id": "aus2zlsc00ig"
      },
      "source": [
        "Obtención de variables dummies por cada categoria de las variables categóricas"
      ]
    },
    {
      "cell_type": "code",
      "metadata": {
        "colab": {
          "base_uri": "https://localhost:8080/",
          "height": 233
        },
        "id": "opnSKO1i2K-p",
        "outputId": "7290717a-90b3-4815-e76b-d5ad332a52d9"
      },
      "source": [
        "df_dummies=pd.get_dummies(df,columns=categoricas.columns)\r\n",
        "df_dummies.head(3)"
      ],
      "execution_count": 125,
      "outputs": [
        {
          "output_type": "execute_result",
          "data": {
            "text/html": [
              "<div>\n",
              "<style scoped>\n",
              "    .dataframe tbody tr th:only-of-type {\n",
              "        vertical-align: middle;\n",
              "    }\n",
              "\n",
              "    .dataframe tbody tr th {\n",
              "        vertical-align: top;\n",
              "    }\n",
              "\n",
              "    .dataframe thead th {\n",
              "        text-align: right;\n",
              "    }\n",
              "</style>\n",
              "<table border=\"1\" class=\"dataframe\">\n",
              "  <thead>\n",
              "    <tr style=\"text-align: right;\">\n",
              "      <th></th>\n",
              "      <th></th>\n",
              "      <th>time_in_hospital</th>\n",
              "      <th>num_lab_procedures</th>\n",
              "      <th>num_procedures</th>\n",
              "      <th>num_medications</th>\n",
              "      <th>number_outpatient</th>\n",
              "      <th>number_emergency</th>\n",
              "      <th>number_inpatient</th>\n",
              "      <th>number_diagnoses</th>\n",
              "      <th>readmitted</th>\n",
              "      <th>y_bool</th>\n",
              "      <th>race_AfricanAmerican</th>\n",
              "      <th>race_Caucasian</th>\n",
              "      <th>race_Other</th>\n",
              "      <th>gender_Female</th>\n",
              "      <th>gender_Male</th>\n",
              "      <th>age_[0-10)</th>\n",
              "      <th>age_[10-20)</th>\n",
              "      <th>age_[20-30)</th>\n",
              "      <th>age_[30-40)</th>\n",
              "      <th>age_[40-50)</th>\n",
              "      <th>age_[50-60)</th>\n",
              "      <th>age_[60-70)</th>\n",
              "      <th>age_[70-80)</th>\n",
              "      <th>age_[80-90)</th>\n",
              "      <th>age_[90-100)</th>\n",
              "      <th>admission_type_id_Elective</th>\n",
              "      <th>admission_type_id_Emergency</th>\n",
              "      <th>admission_type_id_Not Available</th>\n",
              "      <th>admission_type_id_Urgent</th>\n",
              "      <th>discharge_disposition_id_Discharged</th>\n",
              "      <th>discharge_disposition_id_Expired</th>\n",
              "      <th>discharge_disposition_id_Hospice</th>\n",
              "      <th>discharge_disposition_id_Other</th>\n",
              "      <th>admission_source_id_Clinic Referral</th>\n",
              "      <th>admission_source_id_Emergency Room</th>\n",
              "      <th>admission_source_id_Other</th>\n",
              "      <th>admission_source_id_Physician Referral</th>\n",
              "      <th>admission_source_id_Transfer</th>\n",
              "      <th>medical_specialty_Cardiology</th>\n",
              "      <th>medical_specialty_Emergency/Trauma</th>\n",
              "      <th>...</th>\n",
              "      <th>pioglitazone_No</th>\n",
              "      <th>pioglitazone_Steady</th>\n",
              "      <th>pioglitazone_Up</th>\n",
              "      <th>rosiglitazone_Down</th>\n",
              "      <th>rosiglitazone_No</th>\n",
              "      <th>rosiglitazone_Steady</th>\n",
              "      <th>rosiglitazone_Up</th>\n",
              "      <th>acarbose_Down</th>\n",
              "      <th>acarbose_No</th>\n",
              "      <th>acarbose_Steady</th>\n",
              "      <th>acarbose_Up</th>\n",
              "      <th>miglitol_Down</th>\n",
              "      <th>miglitol_No</th>\n",
              "      <th>miglitol_Steady</th>\n",
              "      <th>miglitol_Up</th>\n",
              "      <th>troglitazone_No</th>\n",
              "      <th>troglitazone_Steady</th>\n",
              "      <th>tolazamide_No</th>\n",
              "      <th>tolazamide_Steady</th>\n",
              "      <th>tolazamide_Up</th>\n",
              "      <th>insulin_Down</th>\n",
              "      <th>insulin_No</th>\n",
              "      <th>insulin_Steady</th>\n",
              "      <th>insulin_Up</th>\n",
              "      <th>glyburide_metformin_Down</th>\n",
              "      <th>glyburide_metformin_No</th>\n",
              "      <th>glyburide_metformin_Steady</th>\n",
              "      <th>glyburide_metformin_Up</th>\n",
              "      <th>glipizide_metformin_No</th>\n",
              "      <th>glipizide_metformin_Steady</th>\n",
              "      <th>glimepiride_pioglitazone_No</th>\n",
              "      <th>glimepiride_pioglitazone_Steady</th>\n",
              "      <th>metformin_rosiglitazone_No</th>\n",
              "      <th>metformin_rosiglitazone_Steady</th>\n",
              "      <th>metformin_pioglitazone_No</th>\n",
              "      <th>metformin_pioglitazone_Steady</th>\n",
              "      <th>change_Ch</th>\n",
              "      <th>change_No</th>\n",
              "      <th>diabetesmed_No</th>\n",
              "      <th>diabetesmed_Yes</th>\n",
              "    </tr>\n",
              "    <tr>\n",
              "      <th>encounter_id</th>\n",
              "      <th>patient_nbr</th>\n",
              "      <th></th>\n",
              "      <th></th>\n",
              "      <th></th>\n",
              "      <th></th>\n",
              "      <th></th>\n",
              "      <th></th>\n",
              "      <th></th>\n",
              "      <th></th>\n",
              "      <th></th>\n",
              "      <th></th>\n",
              "      <th></th>\n",
              "      <th></th>\n",
              "      <th></th>\n",
              "      <th></th>\n",
              "      <th></th>\n",
              "      <th></th>\n",
              "      <th></th>\n",
              "      <th></th>\n",
              "      <th></th>\n",
              "      <th></th>\n",
              "      <th></th>\n",
              "      <th></th>\n",
              "      <th></th>\n",
              "      <th></th>\n",
              "      <th></th>\n",
              "      <th></th>\n",
              "      <th></th>\n",
              "      <th></th>\n",
              "      <th></th>\n",
              "      <th></th>\n",
              "      <th></th>\n",
              "      <th></th>\n",
              "      <th></th>\n",
              "      <th></th>\n",
              "      <th></th>\n",
              "      <th></th>\n",
              "      <th></th>\n",
              "      <th></th>\n",
              "      <th></th>\n",
              "      <th></th>\n",
              "      <th></th>\n",
              "      <th></th>\n",
              "      <th></th>\n",
              "      <th></th>\n",
              "      <th></th>\n",
              "      <th></th>\n",
              "      <th></th>\n",
              "      <th></th>\n",
              "      <th></th>\n",
              "      <th></th>\n",
              "      <th></th>\n",
              "      <th></th>\n",
              "      <th></th>\n",
              "      <th></th>\n",
              "      <th></th>\n",
              "      <th></th>\n",
              "      <th></th>\n",
              "      <th></th>\n",
              "      <th></th>\n",
              "      <th></th>\n",
              "      <th></th>\n",
              "      <th></th>\n",
              "      <th></th>\n",
              "      <th></th>\n",
              "      <th></th>\n",
              "      <th></th>\n",
              "      <th></th>\n",
              "      <th></th>\n",
              "      <th></th>\n",
              "      <th></th>\n",
              "      <th></th>\n",
              "      <th></th>\n",
              "      <th></th>\n",
              "      <th></th>\n",
              "      <th></th>\n",
              "      <th></th>\n",
              "      <th></th>\n",
              "      <th></th>\n",
              "      <th></th>\n",
              "      <th></th>\n",
              "      <th></th>\n",
              "    </tr>\n",
              "  </thead>\n",
              "  <tbody>\n",
              "    <tr>\n",
              "      <th>2278392</th>\n",
              "      <th>8222157</th>\n",
              "      <td>1</td>\n",
              "      <td>41</td>\n",
              "      <td>0</td>\n",
              "      <td>1</td>\n",
              "      <td>0</td>\n",
              "      <td>0</td>\n",
              "      <td>0</td>\n",
              "      <td>1</td>\n",
              "      <td>3</td>\n",
              "      <td>0.0</td>\n",
              "      <td>0</td>\n",
              "      <td>1</td>\n",
              "      <td>0</td>\n",
              "      <td>1</td>\n",
              "      <td>0</td>\n",
              "      <td>1</td>\n",
              "      <td>0</td>\n",
              "      <td>0</td>\n",
              "      <td>0</td>\n",
              "      <td>0</td>\n",
              "      <td>0</td>\n",
              "      <td>0</td>\n",
              "      <td>0</td>\n",
              "      <td>0</td>\n",
              "      <td>0</td>\n",
              "      <td>0</td>\n",
              "      <td>1</td>\n",
              "      <td>0</td>\n",
              "      <td>0</td>\n",
              "      <td>1</td>\n",
              "      <td>0</td>\n",
              "      <td>0</td>\n",
              "      <td>0</td>\n",
              "      <td>0</td>\n",
              "      <td>0</td>\n",
              "      <td>0</td>\n",
              "      <td>1</td>\n",
              "      <td>0</td>\n",
              "      <td>0</td>\n",
              "      <td>0</td>\n",
              "      <td>...</td>\n",
              "      <td>1</td>\n",
              "      <td>0</td>\n",
              "      <td>0</td>\n",
              "      <td>0</td>\n",
              "      <td>1</td>\n",
              "      <td>0</td>\n",
              "      <td>0</td>\n",
              "      <td>0</td>\n",
              "      <td>1</td>\n",
              "      <td>0</td>\n",
              "      <td>0</td>\n",
              "      <td>0</td>\n",
              "      <td>1</td>\n",
              "      <td>0</td>\n",
              "      <td>0</td>\n",
              "      <td>1</td>\n",
              "      <td>0</td>\n",
              "      <td>1</td>\n",
              "      <td>0</td>\n",
              "      <td>0</td>\n",
              "      <td>0</td>\n",
              "      <td>1</td>\n",
              "      <td>0</td>\n",
              "      <td>0</td>\n",
              "      <td>0</td>\n",
              "      <td>1</td>\n",
              "      <td>0</td>\n",
              "      <td>0</td>\n",
              "      <td>1</td>\n",
              "      <td>0</td>\n",
              "      <td>1</td>\n",
              "      <td>0</td>\n",
              "      <td>1</td>\n",
              "      <td>0</td>\n",
              "      <td>1</td>\n",
              "      <td>0</td>\n",
              "      <td>0</td>\n",
              "      <td>1</td>\n",
              "      <td>1</td>\n",
              "      <td>0</td>\n",
              "    </tr>\n",
              "    <tr>\n",
              "      <th>149190</th>\n",
              "      <th>55629189</th>\n",
              "      <td>3</td>\n",
              "      <td>59</td>\n",
              "      <td>0</td>\n",
              "      <td>18</td>\n",
              "      <td>0</td>\n",
              "      <td>0</td>\n",
              "      <td>0</td>\n",
              "      <td>9</td>\n",
              "      <td>1</td>\n",
              "      <td>1.0</td>\n",
              "      <td>0</td>\n",
              "      <td>1</td>\n",
              "      <td>0</td>\n",
              "      <td>1</td>\n",
              "      <td>0</td>\n",
              "      <td>0</td>\n",
              "      <td>1</td>\n",
              "      <td>0</td>\n",
              "      <td>0</td>\n",
              "      <td>0</td>\n",
              "      <td>0</td>\n",
              "      <td>0</td>\n",
              "      <td>0</td>\n",
              "      <td>0</td>\n",
              "      <td>0</td>\n",
              "      <td>0</td>\n",
              "      <td>1</td>\n",
              "      <td>0</td>\n",
              "      <td>0</td>\n",
              "      <td>1</td>\n",
              "      <td>0</td>\n",
              "      <td>0</td>\n",
              "      <td>0</td>\n",
              "      <td>0</td>\n",
              "      <td>1</td>\n",
              "      <td>0</td>\n",
              "      <td>0</td>\n",
              "      <td>0</td>\n",
              "      <td>0</td>\n",
              "      <td>0</td>\n",
              "      <td>...</td>\n",
              "      <td>1</td>\n",
              "      <td>0</td>\n",
              "      <td>0</td>\n",
              "      <td>0</td>\n",
              "      <td>1</td>\n",
              "      <td>0</td>\n",
              "      <td>0</td>\n",
              "      <td>0</td>\n",
              "      <td>1</td>\n",
              "      <td>0</td>\n",
              "      <td>0</td>\n",
              "      <td>0</td>\n",
              "      <td>1</td>\n",
              "      <td>0</td>\n",
              "      <td>0</td>\n",
              "      <td>1</td>\n",
              "      <td>0</td>\n",
              "      <td>1</td>\n",
              "      <td>0</td>\n",
              "      <td>0</td>\n",
              "      <td>0</td>\n",
              "      <td>0</td>\n",
              "      <td>0</td>\n",
              "      <td>1</td>\n",
              "      <td>0</td>\n",
              "      <td>1</td>\n",
              "      <td>0</td>\n",
              "      <td>0</td>\n",
              "      <td>1</td>\n",
              "      <td>0</td>\n",
              "      <td>1</td>\n",
              "      <td>0</td>\n",
              "      <td>1</td>\n",
              "      <td>0</td>\n",
              "      <td>1</td>\n",
              "      <td>0</td>\n",
              "      <td>1</td>\n",
              "      <td>0</td>\n",
              "      <td>0</td>\n",
              "      <td>1</td>\n",
              "    </tr>\n",
              "    <tr>\n",
              "      <th>64410</th>\n",
              "      <th>86047875</th>\n",
              "      <td>2</td>\n",
              "      <td>11</td>\n",
              "      <td>5</td>\n",
              "      <td>13</td>\n",
              "      <td>2</td>\n",
              "      <td>0</td>\n",
              "      <td>1</td>\n",
              "      <td>6</td>\n",
              "      <td>3</td>\n",
              "      <td>0.0</td>\n",
              "      <td>1</td>\n",
              "      <td>0</td>\n",
              "      <td>0</td>\n",
              "      <td>1</td>\n",
              "      <td>0</td>\n",
              "      <td>0</td>\n",
              "      <td>0</td>\n",
              "      <td>1</td>\n",
              "      <td>0</td>\n",
              "      <td>0</td>\n",
              "      <td>0</td>\n",
              "      <td>0</td>\n",
              "      <td>0</td>\n",
              "      <td>0</td>\n",
              "      <td>0</td>\n",
              "      <td>0</td>\n",
              "      <td>1</td>\n",
              "      <td>0</td>\n",
              "      <td>0</td>\n",
              "      <td>1</td>\n",
              "      <td>0</td>\n",
              "      <td>0</td>\n",
              "      <td>0</td>\n",
              "      <td>0</td>\n",
              "      <td>1</td>\n",
              "      <td>0</td>\n",
              "      <td>0</td>\n",
              "      <td>0</td>\n",
              "      <td>0</td>\n",
              "      <td>0</td>\n",
              "      <td>...</td>\n",
              "      <td>1</td>\n",
              "      <td>0</td>\n",
              "      <td>0</td>\n",
              "      <td>0</td>\n",
              "      <td>1</td>\n",
              "      <td>0</td>\n",
              "      <td>0</td>\n",
              "      <td>0</td>\n",
              "      <td>1</td>\n",
              "      <td>0</td>\n",
              "      <td>0</td>\n",
              "      <td>0</td>\n",
              "      <td>1</td>\n",
              "      <td>0</td>\n",
              "      <td>0</td>\n",
              "      <td>1</td>\n",
              "      <td>0</td>\n",
              "      <td>1</td>\n",
              "      <td>0</td>\n",
              "      <td>0</td>\n",
              "      <td>0</td>\n",
              "      <td>1</td>\n",
              "      <td>0</td>\n",
              "      <td>0</td>\n",
              "      <td>0</td>\n",
              "      <td>1</td>\n",
              "      <td>0</td>\n",
              "      <td>0</td>\n",
              "      <td>1</td>\n",
              "      <td>0</td>\n",
              "      <td>1</td>\n",
              "      <td>0</td>\n",
              "      <td>1</td>\n",
              "      <td>0</td>\n",
              "      <td>1</td>\n",
              "      <td>0</td>\n",
              "      <td>0</td>\n",
              "      <td>1</td>\n",
              "      <td>0</td>\n",
              "      <td>1</td>\n",
              "    </tr>\n",
              "  </tbody>\n",
              "</table>\n",
              "<p>3 rows × 130 columns</p>\n",
              "</div>"
            ],
            "text/plain": [
              "                          time_in_hospital  ...  diabetesmed_Yes\n",
              "encounter_id patient_nbr                    ...                 \n",
              "2278392      8222157                     1  ...                0\n",
              "149190       55629189                    3  ...                1\n",
              "64410        86047875                    2  ...                1\n",
              "\n",
              "[3 rows x 130 columns]"
            ]
          },
          "metadata": {
            "tags": []
          },
          "execution_count": 125
        }
      ]
    },
    {
      "cell_type": "markdown",
      "metadata": {
        "id": "AFAdFpP-08UP"
      },
      "source": [
        "Validación de correlación más altas con relación a la variable objetivo binaria"
      ]
    },
    {
      "cell_type": "code",
      "metadata": {
        "colab": {
          "base_uri": "https://localhost:8080/"
        },
        "id": "H7MwTedNM9a9",
        "outputId": "ee1e8a79-dcf4-4439-8ee3-617a86128ed1"
      },
      "source": [
        "#validación de las variables que tienen una correlación superior al 5%\r\n",
        "df_numerical_corr = df_dummies.corr()['y_bool']\r\n",
        "df_numerical_most_corr = df_numerical_corr[abs(df_numerical_corr) > 0.05].sort_values(ascending=False)\r\n",
        "df_numerical_most_corr"
      ],
      "execution_count": 126,
      "outputs": [
        {
          "output_type": "execute_result",
          "data": {
            "text/plain": [
              "y_bool                                  1.000000\n",
              "number_inpatient                        0.217194\n",
              "discharge_disposition_id_Discharged     0.115285\n",
              "number_diagnoses                        0.112564\n",
              "number_emergency                        0.103011\n",
              "number_outpatient                       0.082142\n",
              "admission_source_id_Emergency Room      0.080037\n",
              "diabetesmed_Yes                         0.061508\n",
              "time_in_hospital                        0.051289\n",
              "admission_type_id_Elective             -0.050185\n",
              "discharge_disposition_id_Hospice       -0.061233\n",
              "diabetesmed_No                         -0.061508\n",
              "admission_source_id_Transfer           -0.080120\n",
              "discharge_disposition_id_Expired       -0.118478\n",
              "readmitted                             -0.949091\n",
              "Name: y_bool, dtype: float64"
            ]
          },
          "metadata": {
            "tags": []
          },
          "execution_count": 126
        }
      ]
    },
    {
      "cell_type": "code",
      "metadata": {
        "colab": {
          "base_uri": "https://localhost:8080/"
        },
        "id": "zoqdQR--PeQk",
        "outputId": "56b82f35-c4b4-4e77-aaa9-5ced89d2b09c"
      },
      "source": [
        "df_dummies.columns\r\n"
      ],
      "execution_count": 136,
      "outputs": [
        {
          "output_type": "execute_result",
          "data": {
            "text/plain": [
              "Index(['time_in_hospital', 'num_lab_procedures', 'num_procedures',\n",
              "       'num_medications', 'number_outpatient', 'number_emergency',\n",
              "       'number_inpatient', 'number_diagnoses', 'readmitted', 'y_bool',\n",
              "       ...\n",
              "       'glimepiride_pioglitazone_No', 'glimepiride_pioglitazone_Steady',\n",
              "       'metformin_rosiglitazone_No', 'metformin_rosiglitazone_Steady',\n",
              "       'metformin_pioglitazone_No', 'metformin_pioglitazone_Steady',\n",
              "       'change_Ch', 'change_No', 'diabetesmed_No', 'diabetesmed_Yes'],\n",
              "      dtype='object', length=130)"
            ]
          },
          "metadata": {
            "tags": []
          },
          "execution_count": 136
        }
      ]
    },
    {
      "cell_type": "markdown",
      "metadata": {
        "id": "cpSvGV-p1Q7R"
      },
      "source": [
        "Selección de variables según la correlación"
      ]
    },
    {
      "cell_type": "code",
      "metadata": {
        "id": "ojtLX-p89h6k"
      },
      "source": [
        "df_dummies2=df_dummies[['y_bool','number_inpatient','number_diagnoses','number_emergency','number_outpatient','admission_source_id_Emergency Room',\r\n",
        "                        'diabetesmed_Yes','time_in_hospital','admission_type_id_Elective','discharge_disposition_id_Hospice','admission_source_id_Transfer',\r\n",
        "                        'discharge_disposition_id_Expired','readmitted']]\r\n",
        "\r\n",
        "                      #discharge_disposition_id_Discharged\r\n"
      ],
      "execution_count": 137,
      "outputs": []
    },
    {
      "cell_type": "markdown",
      "metadata": {
        "id": "a-JGn24u1YPQ"
      },
      "source": [
        "Segmentación de base entre Train y Test para Entrenamiento y validación del modelo"
      ]
    },
    {
      "cell_type": "code",
      "metadata": {
        "id": "7VPB3PPcFHG8"
      },
      "source": [
        "# Dividimos train/test. Normalizamos\r\n",
        "X=df_dummies2.drop(['readmitted','y_bool'], axis=1)\r\n",
        "Y=df_dummies2[['y_bool']]\r\n",
        "X0_train, X0_test, Y_train, Y_test = train_test_split(X, Y, test_size=0.3, random_state=42)\r\n",
        "\r\n",
        "transformer_spam = StandardScaler().fit(X0_train)  # X0--> Datos originales, X --> Normalizados\r\n",
        "X_train = transformer_spam.transform(X0_train)\r\n",
        "X_test = transformer_spam.transform(X0_test)\r\n",
        "\r\n"
      ],
      "execution_count": 142,
      "outputs": []
    },
    {
      "cell_type": "markdown",
      "metadata": {
        "id": "X_DOCvxD1sEl"
      },
      "source": [
        "### Modelo KNN"
      ]
    },
    {
      "cell_type": "code",
      "metadata": {
        "colab": {
          "base_uri": "https://localhost:8080/"
        },
        "id": "yG4oFt8HKa-c",
        "outputId": "974d550a-5fd2-4ba1-f8bf-a96a2d7a9449"
      },
      "source": [
        "# Entrenamiento k-NN con validación de vecinos\r\n",
        "from sklearn import neighbors\r\n",
        "K_max = 5\r\n",
        "rango_K = np.arange(1, K_max+1)\r\n",
        "nfold = 5\r\n",
        "# Define a dictionary with the name of the parameters to explore as a key and the ranges to explores as value\r\n",
        "diccionario_parametros = [{'n_neighbors': rango_K,'weights':['uniform','distance']}]\r\n",
        "\r\n",
        "# Validación cruzada con GridSearchCV\r\n",
        "knn = GridSearchCV(estimator=neighbors.KNeighborsClassifier( ), param_grid=diccionario_parametros,cv=nfold)\r\n",
        "# Entrenamiento\r\n",
        "knn.fit(X_train,Y_train)\r\n",
        "# Test\r\n",
        "accuracy_train_knn = knn.score(X_train,Y_train)\r\n",
        "accuracy_test_knn = knn.score(X_test,Y_test)\r\n",
        "\r\n",
        "print(\"El número de vecinos seleccionado es k={0:d}\".format(knn.best_params_['n_neighbors']))\r\n",
        "print(\"Accuracy train {0:.2f}%. Accuracy test {1:.2f}%\\n\".format(accuracy_train_knn*100, accuracy_test_knn*100))"
      ],
      "execution_count": 143,
      "outputs": [
        {
          "output_type": "stream",
          "text": [
            "El número de vecinos seleccionado es k=4\n",
            "Accuracy train 64.68%. Accuracy test 58.37%\n",
            "\n"
          ],
          "name": "stdout"
        }
      ]
    },
    {
      "cell_type": "markdown",
      "metadata": {
        "id": "fbdE2SZL10Rn"
      },
      "source": [
        "### Modelo Arboles de Decisión"
      ]
    },
    {
      "cell_type": "code",
      "metadata": {
        "colab": {
          "base_uri": "https://localhost:8080/"
        },
        "id": "3ROyFrieK0yl",
        "outputId": "9f0259b3-f138-4d72-a108-b04fa35d2755"
      },
      "source": [
        "# Entrenamiento DT con validación de profundidad\r\n",
        "from sklearn import tree\r\n",
        "max_depth = 15\r\n",
        "rango_profundidad = np.arange(1, max_depth+1)\r\n",
        "nfold = 5\r\n",
        "# Define a dictionary with the name of the parameters to explore as a key and the ranges to explores as value\r\n",
        "diccionario_parametros = [{'max_depth': rango_profundidad}]\r\n",
        "\r\n",
        "# Validación cruzada con GridSearchCV\r\n",
        "tree_spam = GridSearchCV(estimator=tree.DecisionTreeClassifier(), param_grid=diccionario_parametros,cv=nfold)\r\n",
        "# Entrenamiento\r\n",
        "tree_spam.fit(X_train,Y_train)\r\n",
        "# Test\r\n",
        "accuracy_train_dt = tree_spam.score(X_train,Y_train)\r\n",
        "accuracy_test_dt = tree_spam.score(X_test,Y_test)\r\n",
        "\r\n",
        "print(\"La profundidad seleccionada es depth={0:d}\".format(tree_spam.best_params_['max_depth']))\r\n",
        "print(\"Accuracy train {0:.2f}%. Accuracy test {1:.2f}%\\n\".format(accuracy_train_dt*100, accuracy_test_dt*100))"
      ],
      "execution_count": 144,
      "outputs": [
        {
          "output_type": "stream",
          "text": [
            "La profundidad seleccionada es depth=8\n",
            "Accuracy train 63.46%. Accuracy test 63.31%\n",
            "\n"
          ],
          "name": "stdout"
        }
      ]
    },
    {
      "cell_type": "markdown",
      "metadata": {
        "id": "b6UWmV-714kM"
      },
      "source": [
        "### Modelo de Random Forest"
      ]
    },
    {
      "cell_type": "code",
      "metadata": {
        "colab": {
          "base_uri": "https://localhost:8080/"
        },
        "id": "BdhiIVBeRWgY",
        "outputId": "651892ac-8825-43a1-e60e-9b80fb1ad892"
      },
      "source": [
        "from sklearn.ensemble import RandomForestClassifier\r\n",
        "\r\n",
        "rango_estimadores = [10,20,50,100,200]\r\n",
        "rango_hojas = [2,3,4,5,10,20,50,100,200]\r\n",
        "nfold = 5\r\n",
        "# Define a dictionary with the name of the parameters to explore as a key and the ranges to explores as value\r\n",
        "diccionario_parametros = [{'n_estimators': rango_estimadores, 'max_leaf_nodes': rango_hojas}]\r\n",
        "\r\n",
        "# Validación cruzada con GridSearchCV\r\n",
        "RF_spam = GridSearchCV(RandomForestClassifier(), param_grid=diccionario_parametros,cv=nfold)\r\n",
        "# Entrenamiento\r\n",
        "RF_spam.fit(X_train,Y_train)\r\n",
        "# Test\r\n",
        "accuracy_train_rf = RF_spam.score(X_train,Y_train)\r\n",
        "accuracy_test_rf = RF_spam.score(X_test,Y_test)\r\n",
        "\r\n",
        "print(\"El número de estimadores seleccionado es n_estimadores={0:d}\".format(RF_spam.best_params_['n_estimators']))\r\n",
        "print(\"El número de hojas máximo seleccionado es n_hojas={0:d}\".format(RF_spam.best_params_['max_leaf_nodes']))\r\n",
        "print(\"Accuracy train {0:.2f}%. Accuracy test {1:.2f}%\\n\".format(accuracy_train_rf*100, accuracy_test_rf*100))"
      ],
      "execution_count": 145,
      "outputs": [
        {
          "output_type": "stream",
          "text": [
            "El número de estimadores seleccionado es n_estimadores=100\n",
            "El número de hojas máximo seleccionado es n_hojas=50\n",
            "Accuracy train 63.46%. Accuracy test 63.54%\n",
            "\n"
          ],
          "name": "stdout"
        }
      ]
    },
    {
      "cell_type": "markdown",
      "metadata": {
        "id": "PWbQNbT318Gz"
      },
      "source": [
        "### Modelo LDA"
      ]
    },
    {
      "cell_type": "code",
      "metadata": {
        "colab": {
          "base_uri": "https://localhost:8080/"
        },
        "id": "9IcAV3buRlWT",
        "outputId": "2c060141-9647-4163-8d86-9a559f902074"
      },
      "source": [
        "from sklearn.discriminant_analysis import LinearDiscriminantAnalysis as LDA\r\n",
        "\r\n",
        "LDA = LDA()\r\n",
        "\r\n",
        "LDA.fit(X_train,Y_train)\r\n",
        "                    \r\n",
        "accuracy_train_lda = LDA.score(X_train,Y_train)\r\n",
        "accuracy_test_lda = LDA.score(X_test,Y_test)\r\n",
        "\r\n",
        "print(\"Accuracy train {0:.2f}%. Accuracy test {1:.2f}%\\n\".format(accuracy_train_lda*100, accuracy_test_lda*100))"
      ],
      "execution_count": 147,
      "outputs": [
        {
          "output_type": "stream",
          "text": [
            "Accuracy train 62.46%. Accuracy test 62.50%\n",
            "\n"
          ],
          "name": "stdout"
        }
      ]
    },
    {
      "cell_type": "markdown",
      "metadata": {
        "id": "Jv02F9hl2O1h"
      },
      "source": [
        "### Modelo de Regularización L2"
      ]
    },
    {
      "cell_type": "code",
      "metadata": {
        "colab": {
          "base_uri": "https://localhost:8080/"
        },
        "id": "EPXlZBUtHnQE",
        "outputId": "b4554b6b-5139-47bc-8c7c-3f0c950078b5"
      },
      "source": [
        "# Entrenamiento RL con validación parámetro de regularización L2\r\n",
        "rango_C = np.logspace(-2, 1, 20)  # Rango C en escala logarítmica (base 10). Esto es, 20 puntos desde 10^-2, a 10^1.\r\n",
        "diccionario_parametros = [{'C': rango_C}]\r\n",
        "nfold = 5 # Número de particiones train/validación\r\n",
        "\r\n",
        "RL_spam_L2  = GridSearchCV(estimator=LR(penalty='l2',max_iter=1e6),param_grid=diccionario_parametros,cv=nfold)\r\n",
        "RL_spam_L2.fit(X_train,Y_train)\r\n",
        "                    \r\n",
        "accuracy_train_rl_l2 = RL_spam_L2.score(X_train,Y_train)\r\n",
        "accuracy_test_rl_l2 = RL_spam_L2.score(X_test,Y__test)\r\n",
        "\r\n",
        "print(\"El parámetro de regularización seleccionado es C={0:.2f}\".format(RL_spam_L2.best_params_['C']))\r\n",
        "print(\"Accuracy train {0:.2f}%. Accuracy test {1:.2f}%\\n\".format(accuracy_train_rl_l2*100, accuracy_test_rl_l2*100))"
      ],
      "execution_count": 148,
      "outputs": [
        {
          "output_type": "stream",
          "text": [
            "El parámetro de regularización seleccionado es C=0.04\n",
            "Accuracy train 62.78%. Accuracy test 62.84%\n",
            "\n"
          ],
          "name": "stdout"
        }
      ]
    },
    {
      "cell_type": "markdown",
      "metadata": {
        "id": "zU3cupra2U_x"
      },
      "source": [
        "### Modelo de Regularización L1"
      ]
    },
    {
      "cell_type": "code",
      "metadata": {
        "colab": {
          "base_uri": "https://localhost:8080/"
        },
        "id": "Y9FgmEpxKHos",
        "outputId": "2cef1ca6-b21d-4b49-a7b4-bfd8faa20063"
      },
      "source": [
        "# Entrenamiento RL con validación parámetro de regularización L1\r\n",
        "rango_C = np.logspace(-2, 1, 20)  # Rango C en escala logarítmica (base 10). Esto es, 20 puntos desde 10^-2, a 10^1.\r\n",
        "diccionario_parametros = [{'C': rango_C}]\r\n",
        "nfold = 5 # Número de particiones train/validación\r\n",
        "\r\n",
        "RL_spam_L1  = GridSearchCV(estimator=LR(penalty='l1',max_iter=1e6,solver='liblinear'),\r\n",
        "                           param_grid=diccionario_parametros,cv=nfold)\r\n",
        "RL_spam_L1.fit(X_train,Y_train)\r\n",
        "                    \r\n",
        "accuracy_train_rl_l1 = RL_spam_L1.score(X_train,Y_train)\r\n",
        "accuracy_test_rl_l1 = RL_spam_L1.score(X_test,Y_test)\r\n",
        "\r\n",
        "print(\"El parámetro de regularización seleccionado es C={0:.2f}\".format(RL_spam_L1.best_params_['C']))\r\n",
        "print(\"Accuracy train {0:.2f}%. Accuracy test {1:.2f}%\\n\".format(accuracy_train_rl_l1*100, accuracy_test_rl_l1*100))"
      ],
      "execution_count": 149,
      "outputs": [
        {
          "output_type": "stream",
          "text": [
            "El parámetro de regularización seleccionado es C=0.01\n",
            "Accuracy train 62.82%. Accuracy test 62.97%\n",
            "\n"
          ],
          "name": "stdout"
        }
      ]
    },
    {
      "cell_type": "markdown",
      "metadata": {
        "id": "ob4GWpMQ2Yr1"
      },
      "source": [
        "### Segmentación de train y test para clasificar 3 categorías"
      ]
    },
    {
      "cell_type": "code",
      "metadata": {
        "id": "F4ZpoLmpcdDT"
      },
      "source": [
        "# Dividimos train/test. Normalizamos\r\n",
        "X1=df_dummies2.drop(['readmitted','y_bool'], axis=1)\r\n",
        "Y1=df_dummies2[['readmitted']]\r\n",
        "x_train, x_test, y_train, y_test = train_test_split(X1, Y1, test_size=0.3, random_state=42)\r\n",
        "\r\n",
        "scaler = StandardScaler()\r\n",
        "scaler.fit(x_train) \r\n",
        "x_train_s = scaler.transform(x_train)\r\n",
        "x_test_s = scaler.transform(x_test)"
      ],
      "execution_count": 152,
      "outputs": []
    },
    {
      "cell_type": "markdown",
      "metadata": {
        "id": "ULdfQ2Bk2nY5"
      },
      "source": [
        "#### One vs Rest Classifier con L2"
      ]
    },
    {
      "cell_type": "code",
      "metadata": {
        "id": "-gMEwxubcAzB"
      },
      "source": [
        "from sklearn.multiclass import OneVsRestClassifier\r\n",
        "\r\n",
        "\r\n",
        "# Parameters\r\n",
        "rango_C = np.logspace(-2, 2, 5)\r\n",
        "nfold = 5\r\n",
        "# Define a dictionary with the name of the parameters to explore as a key and the ranges to explores as value\r\n",
        "diccionario_parametros = [{'C': rango_C}]\r\n",
        "\r\n",
        "# Validación cruzada con GridSearchCV\r\n",
        "mi_LR = GridSearchCV(estimator=LR(penalty='l2'), param_grid=diccionario_parametros,cv=nfold)\r\n",
        "\r\n",
        "mi_LR_OneVsRest = OneVsRestClassifier(mi_LR).fit(x_train_s,y_train)"
      ],
      "execution_count": 153,
      "outputs": []
    },
    {
      "cell_type": "code",
      "metadata": {
        "colab": {
          "base_uri": "https://localhost:8080/"
        },
        "id": "3MT3pWSxdUcB",
        "outputId": "5bc993ad-147e-4fd7-8d66-b94e1b23fa2e"
      },
      "source": [
        "# Accuracy\r\n",
        "\r\n",
        "accuracy_train = mi_LR_OneVsRest.score(x_train_s,y_train)\r\n",
        "accuracy_test = mi_LR_OneVsRest.score(x_test_s,y_test)\r\n",
        "\r\n",
        "print(\"Accuracy train {0:f}%. Accuracy test {1:f}%\\n\".format(accuracy_train*100, accuracy_test*100))"
      ],
      "execution_count": 154,
      "outputs": [
        {
          "output_type": "stream",
          "text": [
            "Accuracy train 57.326352%. Accuracy test 57.468064%\n",
            "\n"
          ],
          "name": "stdout"
        }
      ]
    }
  ]
}